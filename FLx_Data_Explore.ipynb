{
 "cells": [
  {
   "cell_type": "code",
   "execution_count": null,
   "metadata": {
    "vscode": {
     "languageId": "plaintext"
    }
   },
   "outputs": [],
   "source": [
    "import pandas as pd\n",
    "import numpy as np\n",
    "import scipy.stats as stats\n",
    "import matplotlib.pyplot as plt\n",
    "import seaborn as sns"
   ]
  },
  {
   "cell_type": "code",
   "execution_count": null,
   "metadata": {
    "vscode": {
     "languageId": "plaintext"
    }
   },
   "outputs": [],
   "source": []
  },
  {
   "cell_type": "code",
   "execution_count": null,
   "metadata": {
    "vscode": {
     "languageId": "plaintext"
    }
   },
   "outputs": [],
   "source": [
    "# Load the dataset (use your cleaned dataset)\n",
    "df = df_filled.copy()  # Assuming the cleaned dataset is already loaded"
   ]
  },
  {
   "cell_type": "code",
   "execution_count": null,
   "metadata": {
    "vscode": {
     "languageId": "plaintext"
    }
   },
   "outputs": [],
   "source": [
    "\n",
    "\n",
    "\n",
    "\n",
    "# 1. Descriptive Statistics\n",
    "print(\"### Descriptive Statistics ###\")\n",
    "print(df[\"Count of AegisInspectionCodeName\"].describe())\n",
    "\n",
    "# 2. Correlation Analysis (Between Defect Count and Other Factors)\n",
    "correlation_matrix = df.corr()\n",
    "print(\"\\n### Correlation Matrix ###\")\n",
    "print(correlation_matrix)\n",
    "\n",
    "# 3. Chi-Square Test for Defect Types vs. Assemblies\n",
    "contingency_table = pd.crosstab(df[\"AssemblyDescription\"], df[\"AegisInspectionCodeName\"])\n",
    "chi2, p, dof, expected = stats.chi2_contingency(contingency_table)\n",
    "print(\"\\n### Chi-Square Test: Defect Type vs. Assemblies ###\")\n",
    "print(f\"Chi-Square Statistic: {chi2}, p-value: {p}\")\n",
    "\n",
    "# 4. ANOVA Test (Defect Counts Across Assemblies)\n",
    "anova_results = stats.f_oneway(*[group[\"Count of AegisInspectionCodeName\"].values \n",
    "                                 for _, group in df.groupby(\"AssemblyDescription\")])\n",
    "print(\"\\n### ANOVA Test: Defect Count Differences Across Assemblies ###\")\n",
    "print(f\"F-statistic: {anova_results.statistic}, p-value: {anova_results.pvalue}\")\n",
    "\n",
    "# 5. Outlier Detection (Boxplot)\n",
    "plt.figure(figsize=(12,6))\n",
    "sns.boxplot(x=df[\"Count of AegisInspectionCodeName\"])\n",
    "plt.title(\"Outlier Detection: Defect Counts\")\n",
    "plt.show()\n",
    "\n",
    "# 6. Most Defective Part Numbers\n",
    "top_defective_parts = df.groupby(\"DefectPartNumber\")[\"Count of AegisInspectionCodeName\"].sum()\n",
    "top_defective_parts = top_defective_parts.sort_values(ascending=False).head(10)\n",
    "\n",
    "plt.figure(figsize=(12,6))\n",
    "sns.barplot(x=top_defective_parts.index, y=top_defective_parts.values)\n",
    "plt.xticks(rotation=90)\n",
    "plt.title(\"Top 10 Most Defective Part Numbers\")\n",
    "plt.ylabel(\"Total Defects\")\n",
    "plt.show()\n",
    "\n",
    "# 7. Most Common Defects by Assembly (Heatmap)\n",
    "assembly_defects = df.groupby([\"AssemblyDescription\", \"AegisInspectionCodeName\"])[\"Count of AegisInspectionCodeName\"].sum().unstack(fill_value=0)\n",
    "\n",
    "plt.figure(figsize=(14,8))\n",
    "sns.heatmap(assembly_defects, cmap=\"coolwarm\", linewidths=0.5)\n",
    "plt.title(\"Heatmap of Defect Types Across Assemblies\")\n",
    "plt.xlabel(\"Defect Type\")\n",
    "plt.ylabel(\"Assembly\")\n",
    "plt.show()"
   ]
  }
 ],
 "metadata": {
  "language_info": {
   "name": "python"
  }
 },
 "nbformat": 4,
 "nbformat_minor": 2
}
