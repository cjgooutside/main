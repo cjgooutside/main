{
  "cells": [
    {
      "cell_type": "markdown",
      "metadata": {
        "colab_type": "text",
        "id": "view-in-github"
      },
      "source": [
        "<a href=\"https://colab.research.google.com/github/cjgooutside/main/blob/main/DescriptiveAnalytics_Student.ipynb\" target=\"_parent\"><img src=\"https://colab.research.google.com/assets/colab-badge.svg\" alt=\"Open In Colab\"/></a>"
      ]
    },
    {
      "cell_type": "markdown",
      "metadata": {
        "id": "Yr1j30249Pz7"
      },
      "source": [
        "#Day 3 CP1: Observation Unit Case Exercise: Descriptive Analytics\n",
        "QTM7515 Reinforcement Learning, Dessislava A. Pachamanova"
      ]
    },
    {
      "cell_type": "code",
      "execution_count": 1,
      "metadata": {
        "id": "nH05KXit-Mqc"
      },
      "outputs": [],
      "source": [
        "# Import necessary Python libraries\n",
        "import numpy as np\n",
        "import pandas as pd\n",
        "import matplotlib.pyplot as plt"
      ]
    },
    {
      "cell_type": "code",
      "execution_count": null,
      "metadata": {
        "colab": {
          "base_uri": "https://localhost:8080/"
        },
        "id": "YkzATGU69yJS",
        "outputId": "617848e6-0e7e-4d2e-9339-8f42536a6171"
      },
      "outputs": [],
      "source": [
        "# Mount google drive so that your file folders are accessible to Colab\n",
        "from google.colab import drive\n",
        "drive.mount('/content/drive')"
      ]
    },
    {
      "cell_type": "markdown",
      "metadata": {
        "id": "0qZjPR5gQ0bL"
      },
      "source": [
        "## Read in and preprocess data"
      ]
    },
    {
      "cell_type": "code",
      "execution_count": 2,
      "metadata": {
        "colab": {
          "base_uri": "https://localhost:8080/",
          "height": 350
        },
        "id": "EKkmEYHt-FW5",
        "outputId": "4a9a96c6-adb8-46eb-de3d-6db4377aa81e"
      },
      "outputs": [
        {
          "ename": "FileNotFoundError",
          "evalue": "[Errno 2] No such file or directory: '/content/drive/My Drive/Colab Notebooks/OUCase/OUDataClean.csv'",
          "output_type": "error",
          "traceback": [
            "\u001b[0;31m---------------------------------------------------------------------------\u001b[0m",
            "\u001b[0;31mFileNotFoundError\u001b[0m                         Traceback (most recent call last)",
            "Cell \u001b[0;32mIn[2], line 2\u001b[0m\n\u001b[1;32m      1\u001b[0m \u001b[38;5;66;03m# Read in csv file and store into a dataframe called df\u001b[39;00m\n\u001b[0;32m----> 2\u001b[0m df \u001b[38;5;241m=\u001b[39m \u001b[43mpd\u001b[49m\u001b[38;5;241;43m.\u001b[39;49m\u001b[43mread_csv\u001b[49m\u001b[43m(\u001b[49m\u001b[38;5;124;43m\"\u001b[39;49m\u001b[38;5;124;43m/content/drive/My Drive/Colab Notebooks/OUCase/OUDataClean.csv\u001b[39;49m\u001b[38;5;124;43m\"\u001b[39;49m\u001b[43m,\u001b[49m\u001b[43m \u001b[49m\u001b[43msep\u001b[49m\u001b[38;5;241;43m=\u001b[39;49m\u001b[38;5;124;43m'\u001b[39;49m\u001b[38;5;124;43m,\u001b[39;49m\u001b[38;5;124;43m'\u001b[39;49m\u001b[43m)\u001b[49m\n",
            "File \u001b[0;32m/Library/Frameworks/Python.framework/Versions/3.12/lib/python3.12/site-packages/pandas/io/parsers/readers.py:1026\u001b[0m, in \u001b[0;36mread_csv\u001b[0;34m(filepath_or_buffer, sep, delimiter, header, names, index_col, usecols, dtype, engine, converters, true_values, false_values, skipinitialspace, skiprows, skipfooter, nrows, na_values, keep_default_na, na_filter, verbose, skip_blank_lines, parse_dates, infer_datetime_format, keep_date_col, date_parser, date_format, dayfirst, cache_dates, iterator, chunksize, compression, thousands, decimal, lineterminator, quotechar, quoting, doublequote, escapechar, comment, encoding, encoding_errors, dialect, on_bad_lines, delim_whitespace, low_memory, memory_map, float_precision, storage_options, dtype_backend)\u001b[0m\n\u001b[1;32m   1013\u001b[0m kwds_defaults \u001b[38;5;241m=\u001b[39m _refine_defaults_read(\n\u001b[1;32m   1014\u001b[0m     dialect,\n\u001b[1;32m   1015\u001b[0m     delimiter,\n\u001b[0;32m   (...)\u001b[0m\n\u001b[1;32m   1022\u001b[0m     dtype_backend\u001b[38;5;241m=\u001b[39mdtype_backend,\n\u001b[1;32m   1023\u001b[0m )\n\u001b[1;32m   1024\u001b[0m kwds\u001b[38;5;241m.\u001b[39mupdate(kwds_defaults)\n\u001b[0;32m-> 1026\u001b[0m \u001b[38;5;28;01mreturn\u001b[39;00m \u001b[43m_read\u001b[49m\u001b[43m(\u001b[49m\u001b[43mfilepath_or_buffer\u001b[49m\u001b[43m,\u001b[49m\u001b[43m \u001b[49m\u001b[43mkwds\u001b[49m\u001b[43m)\u001b[49m\n",
            "File \u001b[0;32m/Library/Frameworks/Python.framework/Versions/3.12/lib/python3.12/site-packages/pandas/io/parsers/readers.py:620\u001b[0m, in \u001b[0;36m_read\u001b[0;34m(filepath_or_buffer, kwds)\u001b[0m\n\u001b[1;32m    617\u001b[0m _validate_names(kwds\u001b[38;5;241m.\u001b[39mget(\u001b[38;5;124m\"\u001b[39m\u001b[38;5;124mnames\u001b[39m\u001b[38;5;124m\"\u001b[39m, \u001b[38;5;28;01mNone\u001b[39;00m))\n\u001b[1;32m    619\u001b[0m \u001b[38;5;66;03m# Create the parser.\u001b[39;00m\n\u001b[0;32m--> 620\u001b[0m parser \u001b[38;5;241m=\u001b[39m \u001b[43mTextFileReader\u001b[49m\u001b[43m(\u001b[49m\u001b[43mfilepath_or_buffer\u001b[49m\u001b[43m,\u001b[49m\u001b[43m \u001b[49m\u001b[38;5;241;43m*\u001b[39;49m\u001b[38;5;241;43m*\u001b[39;49m\u001b[43mkwds\u001b[49m\u001b[43m)\u001b[49m\n\u001b[1;32m    622\u001b[0m \u001b[38;5;28;01mif\u001b[39;00m chunksize \u001b[38;5;129;01mor\u001b[39;00m iterator:\n\u001b[1;32m    623\u001b[0m     \u001b[38;5;28;01mreturn\u001b[39;00m parser\n",
            "File \u001b[0;32m/Library/Frameworks/Python.framework/Versions/3.12/lib/python3.12/site-packages/pandas/io/parsers/readers.py:1620\u001b[0m, in \u001b[0;36mTextFileReader.__init__\u001b[0;34m(self, f, engine, **kwds)\u001b[0m\n\u001b[1;32m   1617\u001b[0m     \u001b[38;5;28mself\u001b[39m\u001b[38;5;241m.\u001b[39moptions[\u001b[38;5;124m\"\u001b[39m\u001b[38;5;124mhas_index_names\u001b[39m\u001b[38;5;124m\"\u001b[39m] \u001b[38;5;241m=\u001b[39m kwds[\u001b[38;5;124m\"\u001b[39m\u001b[38;5;124mhas_index_names\u001b[39m\u001b[38;5;124m\"\u001b[39m]\n\u001b[1;32m   1619\u001b[0m \u001b[38;5;28mself\u001b[39m\u001b[38;5;241m.\u001b[39mhandles: IOHandles \u001b[38;5;241m|\u001b[39m \u001b[38;5;28;01mNone\u001b[39;00m \u001b[38;5;241m=\u001b[39m \u001b[38;5;28;01mNone\u001b[39;00m\n\u001b[0;32m-> 1620\u001b[0m \u001b[38;5;28mself\u001b[39m\u001b[38;5;241m.\u001b[39m_engine \u001b[38;5;241m=\u001b[39m \u001b[38;5;28;43mself\u001b[39;49m\u001b[38;5;241;43m.\u001b[39;49m\u001b[43m_make_engine\u001b[49m\u001b[43m(\u001b[49m\u001b[43mf\u001b[49m\u001b[43m,\u001b[49m\u001b[43m \u001b[49m\u001b[38;5;28;43mself\u001b[39;49m\u001b[38;5;241;43m.\u001b[39;49m\u001b[43mengine\u001b[49m\u001b[43m)\u001b[49m\n",
            "File \u001b[0;32m/Library/Frameworks/Python.framework/Versions/3.12/lib/python3.12/site-packages/pandas/io/parsers/readers.py:1880\u001b[0m, in \u001b[0;36mTextFileReader._make_engine\u001b[0;34m(self, f, engine)\u001b[0m\n\u001b[1;32m   1878\u001b[0m     \u001b[38;5;28;01mif\u001b[39;00m \u001b[38;5;124m\"\u001b[39m\u001b[38;5;124mb\u001b[39m\u001b[38;5;124m\"\u001b[39m \u001b[38;5;129;01mnot\u001b[39;00m \u001b[38;5;129;01min\u001b[39;00m mode:\n\u001b[1;32m   1879\u001b[0m         mode \u001b[38;5;241m+\u001b[39m\u001b[38;5;241m=\u001b[39m \u001b[38;5;124m\"\u001b[39m\u001b[38;5;124mb\u001b[39m\u001b[38;5;124m\"\u001b[39m\n\u001b[0;32m-> 1880\u001b[0m \u001b[38;5;28mself\u001b[39m\u001b[38;5;241m.\u001b[39mhandles \u001b[38;5;241m=\u001b[39m \u001b[43mget_handle\u001b[49m\u001b[43m(\u001b[49m\n\u001b[1;32m   1881\u001b[0m \u001b[43m    \u001b[49m\u001b[43mf\u001b[49m\u001b[43m,\u001b[49m\n\u001b[1;32m   1882\u001b[0m \u001b[43m    \u001b[49m\u001b[43mmode\u001b[49m\u001b[43m,\u001b[49m\n\u001b[1;32m   1883\u001b[0m \u001b[43m    \u001b[49m\u001b[43mencoding\u001b[49m\u001b[38;5;241;43m=\u001b[39;49m\u001b[38;5;28;43mself\u001b[39;49m\u001b[38;5;241;43m.\u001b[39;49m\u001b[43moptions\u001b[49m\u001b[38;5;241;43m.\u001b[39;49m\u001b[43mget\u001b[49m\u001b[43m(\u001b[49m\u001b[38;5;124;43m\"\u001b[39;49m\u001b[38;5;124;43mencoding\u001b[39;49m\u001b[38;5;124;43m\"\u001b[39;49m\u001b[43m,\u001b[49m\u001b[43m \u001b[49m\u001b[38;5;28;43;01mNone\u001b[39;49;00m\u001b[43m)\u001b[49m\u001b[43m,\u001b[49m\n\u001b[1;32m   1884\u001b[0m \u001b[43m    \u001b[49m\u001b[43mcompression\u001b[49m\u001b[38;5;241;43m=\u001b[39;49m\u001b[38;5;28;43mself\u001b[39;49m\u001b[38;5;241;43m.\u001b[39;49m\u001b[43moptions\u001b[49m\u001b[38;5;241;43m.\u001b[39;49m\u001b[43mget\u001b[49m\u001b[43m(\u001b[49m\u001b[38;5;124;43m\"\u001b[39;49m\u001b[38;5;124;43mcompression\u001b[39;49m\u001b[38;5;124;43m\"\u001b[39;49m\u001b[43m,\u001b[49m\u001b[43m \u001b[49m\u001b[38;5;28;43;01mNone\u001b[39;49;00m\u001b[43m)\u001b[49m\u001b[43m,\u001b[49m\n\u001b[1;32m   1885\u001b[0m \u001b[43m    \u001b[49m\u001b[43mmemory_map\u001b[49m\u001b[38;5;241;43m=\u001b[39;49m\u001b[38;5;28;43mself\u001b[39;49m\u001b[38;5;241;43m.\u001b[39;49m\u001b[43moptions\u001b[49m\u001b[38;5;241;43m.\u001b[39;49m\u001b[43mget\u001b[49m\u001b[43m(\u001b[49m\u001b[38;5;124;43m\"\u001b[39;49m\u001b[38;5;124;43mmemory_map\u001b[39;49m\u001b[38;5;124;43m\"\u001b[39;49m\u001b[43m,\u001b[49m\u001b[43m \u001b[49m\u001b[38;5;28;43;01mFalse\u001b[39;49;00m\u001b[43m)\u001b[49m\u001b[43m,\u001b[49m\n\u001b[1;32m   1886\u001b[0m \u001b[43m    \u001b[49m\u001b[43mis_text\u001b[49m\u001b[38;5;241;43m=\u001b[39;49m\u001b[43mis_text\u001b[49m\u001b[43m,\u001b[49m\n\u001b[1;32m   1887\u001b[0m \u001b[43m    \u001b[49m\u001b[43merrors\u001b[49m\u001b[38;5;241;43m=\u001b[39;49m\u001b[38;5;28;43mself\u001b[39;49m\u001b[38;5;241;43m.\u001b[39;49m\u001b[43moptions\u001b[49m\u001b[38;5;241;43m.\u001b[39;49m\u001b[43mget\u001b[49m\u001b[43m(\u001b[49m\u001b[38;5;124;43m\"\u001b[39;49m\u001b[38;5;124;43mencoding_errors\u001b[39;49m\u001b[38;5;124;43m\"\u001b[39;49m\u001b[43m,\u001b[49m\u001b[43m \u001b[49m\u001b[38;5;124;43m\"\u001b[39;49m\u001b[38;5;124;43mstrict\u001b[39;49m\u001b[38;5;124;43m\"\u001b[39;49m\u001b[43m)\u001b[49m\u001b[43m,\u001b[49m\n\u001b[1;32m   1888\u001b[0m \u001b[43m    \u001b[49m\u001b[43mstorage_options\u001b[49m\u001b[38;5;241;43m=\u001b[39;49m\u001b[38;5;28;43mself\u001b[39;49m\u001b[38;5;241;43m.\u001b[39;49m\u001b[43moptions\u001b[49m\u001b[38;5;241;43m.\u001b[39;49m\u001b[43mget\u001b[49m\u001b[43m(\u001b[49m\u001b[38;5;124;43m\"\u001b[39;49m\u001b[38;5;124;43mstorage_options\u001b[39;49m\u001b[38;5;124;43m\"\u001b[39;49m\u001b[43m,\u001b[49m\u001b[43m \u001b[49m\u001b[38;5;28;43;01mNone\u001b[39;49;00m\u001b[43m)\u001b[49m\u001b[43m,\u001b[49m\n\u001b[1;32m   1889\u001b[0m \u001b[43m\u001b[49m\u001b[43m)\u001b[49m\n\u001b[1;32m   1890\u001b[0m \u001b[38;5;28;01massert\u001b[39;00m \u001b[38;5;28mself\u001b[39m\u001b[38;5;241m.\u001b[39mhandles \u001b[38;5;129;01mis\u001b[39;00m \u001b[38;5;129;01mnot\u001b[39;00m \u001b[38;5;28;01mNone\u001b[39;00m\n\u001b[1;32m   1891\u001b[0m f \u001b[38;5;241m=\u001b[39m \u001b[38;5;28mself\u001b[39m\u001b[38;5;241m.\u001b[39mhandles\u001b[38;5;241m.\u001b[39mhandle\n",
            "File \u001b[0;32m/Library/Frameworks/Python.framework/Versions/3.12/lib/python3.12/site-packages/pandas/io/common.py:873\u001b[0m, in \u001b[0;36mget_handle\u001b[0;34m(path_or_buf, mode, encoding, compression, memory_map, is_text, errors, storage_options)\u001b[0m\n\u001b[1;32m    868\u001b[0m \u001b[38;5;28;01melif\u001b[39;00m \u001b[38;5;28misinstance\u001b[39m(handle, \u001b[38;5;28mstr\u001b[39m):\n\u001b[1;32m    869\u001b[0m     \u001b[38;5;66;03m# Check whether the filename is to be opened in binary mode.\u001b[39;00m\n\u001b[1;32m    870\u001b[0m     \u001b[38;5;66;03m# Binary mode does not support 'encoding' and 'newline'.\u001b[39;00m\n\u001b[1;32m    871\u001b[0m     \u001b[38;5;28;01mif\u001b[39;00m ioargs\u001b[38;5;241m.\u001b[39mencoding \u001b[38;5;129;01mand\u001b[39;00m \u001b[38;5;124m\"\u001b[39m\u001b[38;5;124mb\u001b[39m\u001b[38;5;124m\"\u001b[39m \u001b[38;5;129;01mnot\u001b[39;00m \u001b[38;5;129;01min\u001b[39;00m ioargs\u001b[38;5;241m.\u001b[39mmode:\n\u001b[1;32m    872\u001b[0m         \u001b[38;5;66;03m# Encoding\u001b[39;00m\n\u001b[0;32m--> 873\u001b[0m         handle \u001b[38;5;241m=\u001b[39m \u001b[38;5;28;43mopen\u001b[39;49m\u001b[43m(\u001b[49m\n\u001b[1;32m    874\u001b[0m \u001b[43m            \u001b[49m\u001b[43mhandle\u001b[49m\u001b[43m,\u001b[49m\n\u001b[1;32m    875\u001b[0m \u001b[43m            \u001b[49m\u001b[43mioargs\u001b[49m\u001b[38;5;241;43m.\u001b[39;49m\u001b[43mmode\u001b[49m\u001b[43m,\u001b[49m\n\u001b[1;32m    876\u001b[0m \u001b[43m            \u001b[49m\u001b[43mencoding\u001b[49m\u001b[38;5;241;43m=\u001b[39;49m\u001b[43mioargs\u001b[49m\u001b[38;5;241;43m.\u001b[39;49m\u001b[43mencoding\u001b[49m\u001b[43m,\u001b[49m\n\u001b[1;32m    877\u001b[0m \u001b[43m            \u001b[49m\u001b[43merrors\u001b[49m\u001b[38;5;241;43m=\u001b[39;49m\u001b[43merrors\u001b[49m\u001b[43m,\u001b[49m\n\u001b[1;32m    878\u001b[0m \u001b[43m            \u001b[49m\u001b[43mnewline\u001b[49m\u001b[38;5;241;43m=\u001b[39;49m\u001b[38;5;124;43m\"\u001b[39;49m\u001b[38;5;124;43m\"\u001b[39;49m\u001b[43m,\u001b[49m\n\u001b[1;32m    879\u001b[0m \u001b[43m        \u001b[49m\u001b[43m)\u001b[49m\n\u001b[1;32m    880\u001b[0m     \u001b[38;5;28;01melse\u001b[39;00m:\n\u001b[1;32m    881\u001b[0m         \u001b[38;5;66;03m# Binary mode\u001b[39;00m\n\u001b[1;32m    882\u001b[0m         handle \u001b[38;5;241m=\u001b[39m \u001b[38;5;28mopen\u001b[39m(handle, ioargs\u001b[38;5;241m.\u001b[39mmode)\n",
            "\u001b[0;31mFileNotFoundError\u001b[0m: [Errno 2] No such file or directory: '/content/drive/My Drive/Colab Notebooks/OUCase/OUDataClean.csv'"
          ]
        }
      ],
      "source": [
        "# Read in csv file and store into a dataframe called df\n",
        "df = pd.read_csv(\"/content/drive/My Drive/Colab Notebooks/OUCase/OUDataClean.csv\", sep=',')"
      ]
    },
    {
      "cell_type": "code",
      "execution_count": null,
      "metadata": {
        "id": "eL-Fkh4n3kP4"
      },
      "outputs": [],
      "source": [
        "# Read in csv file and store into a dataframe called df\n",
        "df = pd.read_csv(\"/content/drive/My Drive/QTM7515RL/OUDataClean.csv\", sep=',')"
      ]
    },
    {
      "cell_type": "code",
      "execution_count": null,
      "metadata": {
        "colab": {
          "base_uri": "https://localhost:8080/",
          "height": 528
        },
        "id": "-NI7myoI-vls",
        "outputId": "9774dab2-28cd-4220-9396-881f760f1c5d"
      },
      "outputs": [],
      "source": [
        "# Check that the file was read in correctly\n",
        "# View the first 5 rows\n",
        "print(\"First 5 rows:\")\n",
        "display(df.head())\n",
        "\n",
        "# View the last 3 rows\n",
        "print(\"\\nLast 3 rows:\")\n",
        "display(df.tail(3))\n",
        "\n",
        "# View 2 random rows\n",
        "print(\"\\n2 random rows:\")\n",
        "display(df.sample(2))"
      ]
    },
    {
      "cell_type": "code",
      "execution_count": null,
      "metadata": {
        "colab": {
          "base_uri": "https://localhost:8080/"
        },
        "id": "k-_xlmpRFtyG",
        "outputId": "a498b23f-7734-4aac-8dee-087470a97b06"
      },
      "outputs": [],
      "source": [
        "# Print information about each column in the dataframe\n",
        "print(df.info())"
      ]
    },
    {
      "cell_type": "code",
      "execution_count": null,
      "metadata": {
        "colab": {
          "base_uri": "https://localhost:8080/"
        },
        "id": "3gHGunW0GIsS",
        "outputId": "63b8b84c-a05d-4ae8-8adc-f6ab4ac2dc73"
      },
      "outputs": [],
      "source": [
        "# Drop columns we do not need\n",
        "df = df.drop(['InitPatientClassAndFirstPostOUClass'], axis=1)\n",
        "print(df.info())"
      ]
    },
    {
      "cell_type": "code",
      "execution_count": null,
      "metadata": {
        "colab": {
          "base_uri": "https://localhost:8080/"
        },
        "id": "_1sqOITrGqhH",
        "outputId": "713190ba-0ee3-4b57-c479-393458694e3e"
      },
      "outputs": [],
      "source": [
        "# Change data types where necessary\n",
        "# Do not change data type for Flipped, it is already 0/1\n",
        "\n",
        "df['Gender'] = df['Gender'].astype('category')\n",
        "df['PrimaryInsuranceCategory'] = df['PrimaryInsuranceCategory'].astype('category')\n",
        "df['DRG01'] = df['DRG01'].astype('category')\n",
        "#df['Flipped'] = df['Flipped'].astype('category')\n",
        "\n",
        "print(df.info())"
      ]
    },
    {
      "cell_type": "markdown",
      "metadata": {
        "id": "h7SE1cxsUL_2"
      },
      "source": [
        "##Visualizations"
      ]
    },
    {
      "cell_type": "code",
      "execution_count": null,
      "metadata": {
        "colab": {
          "base_uri": "https://localhost:8080/"
        },
        "id": "6gFngkyQUyqs",
        "outputId": "e68cc98b-73fe-4969-b956-0cbc5a9736e9"
      },
      "outputs": [],
      "source": [
        "#Create a categorical variable AgeCat for easier visualizations\n",
        "df['AgeCat'] = pd.cut(df['Age'], list(range(19, 90, 10)), include_lowest=True, precision=0)\n",
        "print(df['AgeCat'])"
      ]
    },
    {
      "cell_type": "markdown",
      "metadata": {
        "id": "5ngmNhGDVGoG"
      },
      "source": [
        "###Average LOS and Percentage Flipped by Age Category"
      ]
    },
    {
      "cell_type": "code",
      "execution_count": null,
      "metadata": {
        "colab": {
          "base_uri": "https://localhost:8080/"
        },
        "id": "n_sdYGZ_VP-a",
        "outputId": "8335f915-8750-4c05-c668-20d7c576392f"
      },
      "outputs": [],
      "source": [
        "by_AgeCat = df.groupby(\"AgeCat\", observed=False)\n",
        "\n",
        "# Perform the aggregations\n",
        "ave_by_AgeCat = by_AgeCat.agg(\n",
        "    aveLOS_hrs=pd.NamedAgg(column='OU_LOS_hrs', aggfunc='mean'),\n",
        "    percFlipped=pd.NamedAgg(column='Flipped', aggfunc='mean'),\n",
        "    n=pd.NamedAgg(column='OU_LOS_hrs', aggfunc='count')\n",
        ").reset_index()\n",
        "\n",
        "print(ave_by_AgeCat.to_markdown())"
      ]
    },
    {
      "cell_type": "code",
      "execution_count": null,
      "metadata": {
        "colab": {
          "base_uri": "https://localhost:8080/",
          "height": 472
        },
        "id": "O5gTnYgQVfZU",
        "outputId": "f46d2ab9-5d16-4ef1-eaa0-25d420ee6393"
      },
      "outputs": [],
      "source": [
        "#Bar chart of average LOS by age category\n",
        "ave_by_AgeCat.plot(x='AgeCat', y='aveLOS_hrs', kind='bar',\n",
        "                   title='Average LOS by Age Category',\n",
        "                   xlabel='Age Category', ylabel='Average LOS (hours)',\n",
        "                   legend=False, rot=0)\n",
        "plt.show()"
      ]
    },
    {
      "cell_type": "code",
      "execution_count": null,
      "metadata": {
        "colab": {
          "base_uri": "https://localhost:8080/",
          "height": 472
        },
        "id": "Fx1V8RuXVqAo",
        "outputId": "cb453672-aabe-40d5-8fa1-dc343bf0d863"
      },
      "outputs": [],
      "source": [
        "#Bar chart of Percentage Flipped by age category\n",
        "ave_by_AgeCat.plot(x='AgeCat', y='percFlipped', kind='bar',\n",
        "                   title='Percentage of Patients Who Flipped by Age Category',\n",
        "                   xlabel='Age Category', ylabel='Percentage Flipped',\n",
        "                   legend=False, rot=0)\n",
        "plt.show()"
      ]
    },
    {
      "cell_type": "markdown",
      "metadata": {
        "id": "iqpa74J-V9dp"
      },
      "source": [
        "###Average LOS and Percentage Flipped by Gender"
      ]
    },
    {
      "cell_type": "code",
      "execution_count": null,
      "metadata": {
        "colab": {
          "base_uri": "https://localhost:8080/"
        },
        "id": "jQVm0H6JWXEG",
        "outputId": "61fda2eb-d2c5-4877-8f34-ef2d0c12edce"
      },
      "outputs": [],
      "source": [
        "#Tabulate Average LOS and Percentage Flipped by Gender\n",
        "by_Gender = df.groupby(\"Gender\", observed=False)\n",
        "ave_by_Gender = by_Gender.agg(aveLOS_hrs=pd.NamedAgg(column='OU_LOS_hrs', aggfunc='mean'),\n",
        "                              percFlipped=pd.NamedAgg(column='Flipped', aggfunc='mean'),\n",
        "                              n=pd.NamedAgg(column='OU_LOS_hrs', aggfunc='count')).reset_index()\n",
        "print(ave_by_Gender.to_markdown())"
      ]
    },
    {
      "cell_type": "code",
      "execution_count": null,
      "metadata": {
        "colab": {
          "base_uri": "https://localhost:8080/",
          "height": 472
        },
        "id": "Z3cY4ZTPWH1i",
        "outputId": "5e9bef3d-26be-44f2-fd3e-ec94e0529c47"
      },
      "outputs": [],
      "source": [
        "#Bar chart of average LOS by Gender\n",
        "ave_by_Gender.plot(x='Gender', y='aveLOS_hrs', kind='bar',\n",
        "                   title='Average LOS by Gender',\n",
        "                   xlabel='Gender', ylabel='Average LOS (hours)',\n",
        "                   legend=False, rot=0)\n",
        "plt.show()"
      ]
    },
    {
      "cell_type": "code",
      "execution_count": null,
      "metadata": {
        "colab": {
          "base_uri": "https://localhost:8080/",
          "height": 472
        },
        "id": "c_yt6rNhXjaQ",
        "outputId": "66083cbd-dcab-4207-d0fc-6081dc793cdb"
      },
      "outputs": [],
      "source": [
        "#Bar chart of Percentage Flipped by Gender\n",
        "ave_by_Gender.plot(x='Gender', y='percFlipped', kind='bar',\n",
        "                   title='Percentage of Patients Who Flipped by Gender',\n",
        "                   xlabel='Gender', ylabel='Percentage Flipped',\n",
        "                   legend=False, rot=0)\n",
        "plt.show()"
      ]
    },
    {
      "cell_type": "markdown",
      "metadata": {
        "id": "kBD9Y_X3Y60M"
      },
      "source": [
        "###Average LOS and Percentage Flipped by DRG"
      ]
    },
    {
      "cell_type": "code",
      "execution_count": null,
      "metadata": {
        "colab": {
          "base_uri": "https://localhost:8080/"
        },
        "id": "zthWBfkbZA_0",
        "outputId": "42102499-0c82-414b-a1ec-d40596065e06"
      },
      "outputs": [],
      "source": [
        "by_DRG = df.groupby(\"DRG01\", observed=False)\n",
        "ave_by_DRG = by_DRG.agg(aveLOS_hrs=pd.NamedAgg(column='OU_LOS_hrs', aggfunc='mean'),\n",
        "                        percFlipped=pd.NamedAgg(column='Flipped', aggfunc='mean'),\n",
        "                        n=pd.NamedAgg(column='OU_LOS_hrs', aggfunc='count')).reset_index()\n",
        "print(ave_by_DRG.to_markdown())"
      ]
    },
    {
      "cell_type": "code",
      "execution_count": null,
      "metadata": {
        "colab": {
          "base_uri": "https://localhost:8080/",
          "height": 472
        },
        "id": "Vo1t36U1ZPcd",
        "outputId": "a9928507-25c7-4a4b-bde8-1b970f576cb2"
      },
      "outputs": [],
      "source": [
        "#Bar chart of Average LOS by DRG\n",
        "ave_by_DRG.plot(x='DRG01', y='aveLOS_hrs', kind='bar',\n",
        "                title='Average LOS by DRG',\n",
        "                xlabel='DRG Group', ylabel='Average LOS (hours)',\n",
        "                legend=False, rot=0)\n",
        "plt.show()"
      ]
    },
    {
      "cell_type": "code",
      "execution_count": null,
      "metadata": {
        "colab": {
          "base_uri": "https://localhost:8080/",
          "height": 472
        },
        "id": "nx8OqCXyZXCw",
        "outputId": "ff4816e6-6764-48f1-c240-3243a14d39d8"
      },
      "outputs": [],
      "source": [
        "#Bar chart of percentage flipped by DRG\n",
        "ave_by_DRG.plot(x='DRG01', y='percFlipped', kind='bar',\n",
        "                title='Percentage of Patients Who Flipped by DRG',\n",
        "                xlabel='DRG Group', ylabel='Percentage Flipped',\n",
        "                legend=False, rot=0)\n",
        "plt.show()"
      ]
    },
    {
      "cell_type": "markdown",
      "metadata": {
        "id": "FQLjoaqcZkxG"
      },
      "source": [
        "###Average LOS, Percentage Flipped, and number of obs by Age Category, Gender and DRG"
      ]
    },
    {
      "cell_type": "code",
      "execution_count": null,
      "metadata": {
        "colab": {
          "base_uri": "https://localhost:8080/"
        },
        "id": "7jWAFlmeZu84",
        "outputId": "8b54b585-878d-47f9-c023-f870caffa472"
      },
      "outputs": [],
      "source": [
        "by_AgeCat_Gender = df.groupby([\"AgeCat\", \"Gender\"], observed=False)\n",
        "ave_by_AgeCat_Gender = by_AgeCat_Gender.agg(aveLOS_hrs=pd.NamedAgg(column='OU_LOS_hrs', aggfunc='mean'),\n",
        "                                            percFlipped=pd.NamedAgg(column='Flipped', aggfunc='mean'),\n",
        "                                            n=pd.NamedAgg(column='OU_LOS_hrs', aggfunc='count')).reset_index()\n",
        "print(ave_by_AgeCat_Gender.to_markdown())"
      ]
    },
    {
      "cell_type": "code",
      "execution_count": null,
      "metadata": {
        "colab": {
          "base_uri": "https://localhost:8080/"
        },
        "id": "znvQL09JaVHE",
        "outputId": "9810ecba-0953-4223-ae68-175932f1c0c0"
      },
      "outputs": [],
      "source": [
        "by_AgeCat_Gender = df.groupby([\"AgeCat\", \"Gender\"], observed=False)\n",
        "ave_by_AgeCat_Gender = by_AgeCat_Gender['Flipped'].mean().reset_index()\n",
        "ave_by_AgeCat_Gender = ave_by_AgeCat_Gender.pivot_table(values='Flipped',\n",
        "                                                        columns='Gender',\n",
        "                                                        index=ave_by_AgeCat_Gender['AgeCat'],\n",
        "                                                        aggfunc='mean',observed=False).reset_index()\n",
        "print(ave_by_AgeCat_Gender.to_markdown())"
      ]
    },
    {
      "cell_type": "code",
      "execution_count": null,
      "metadata": {
        "colab": {
          "base_uri": "https://localhost:8080/",
          "height": 513
        },
        "id": "KuqTUhTkbScY",
        "outputId": "df011d54-d040-4667-f487-3b3753bd79a6"
      },
      "outputs": [],
      "source": [
        "#Bar chart of Percentage Flipped by Gender\n",
        "ave_by_AgeCat_Gender.plot(x='AgeCat', kind='bar', stacked=True,\n",
        "                          title='Percentage of Patients Who Flipped by AgeCat and Gender',\n",
        "                          xlabel='Age Category', ylabel='Percentage Flipped',\n",
        "                          color=['orange', 'b'])\n",
        "plt.show()"
      ]
    },
    {
      "cell_type": "code",
      "execution_count": null,
      "metadata": {
        "colab": {
          "base_uri": "https://localhost:8080/"
        },
        "id": "YKXIwjSLbeLi",
        "outputId": "b95b07e4-cf52-493d-df1e-968d607af5f2"
      },
      "outputs": [],
      "source": [
        "#Percentage Flipped by DRG and Gender\n",
        "by_DRG_Gender = df.groupby([\"DRG01\", \"Gender\"], observed=False)\n",
        "ave_by_DRG_Gender = by_DRG_Gender['Flipped'].mean().reset_index()\n",
        "ave_by_DRG_Gender = ave_by_DRG_Gender.pivot_table(values='Flipped', columns='Gender',\n",
        "                                                  index=ave_by_DRG_Gender['DRG01'],\n",
        "                                                  aggfunc='mean', observed=False).reset_index()\n",
        "print(ave_by_DRG_Gender.to_markdown())"
      ]
    },
    {
      "cell_type": "code",
      "execution_count": null,
      "metadata": {
        "colab": {
          "base_uri": "https://localhost:8080/",
          "height": 484
        },
        "id": "N_cTpUlwboyK",
        "outputId": "e184b912-5f0d-4a86-de3a-d0f2bd510e38"
      },
      "outputs": [],
      "source": [
        "#Bar chart of Percentage Flipped by DRG and Gender\n",
        "ave_by_DRG_Gender.plot(x='DRG01', kind='bar', stacked=True,\n",
        "                       title='Percentage of Patients Who Flipped by DRG and Gender',\n",
        "                       xlabel='DRG',  # This was previously mislabeled as 'Age Category'\n",
        "                       ylabel='Percentage Flipped',\n",
        "                       color=['orange', 'b'])  # Specify colors: blue for Male, orange for Female\n",
        "plt.show()"
      ]
    },
    {
      "cell_type": "markdown",
      "metadata": {
        "id": "azrBuhY_cICK"
      },
      "source": [
        "###Percentage Flipped by Primary Insurance Category"
      ]
    },
    {
      "cell_type": "code",
      "execution_count": null,
      "metadata": {
        "colab": {
          "base_uri": "https://localhost:8080/"
        },
        "id": "oOye-9M8cOUS",
        "outputId": "8ee54d50-2345-4870-f05f-71a311a0ab89"
      },
      "outputs": [],
      "source": [
        "by_Insur = df.groupby(\"PrimaryInsuranceCategory\", observed=False)\n",
        "ave_by_Insur = by_Insur['Flipped'].mean().reset_index()\n",
        "print(ave_by_Insur.to_markdown())"
      ]
    },
    {
      "cell_type": "code",
      "execution_count": null,
      "metadata": {
        "colab": {
          "base_uri": "https://localhost:8080/"
        },
        "id": "bhiB1CToco8T",
        "outputId": "cd4694e5-0521-4c03-f176-6e54e32b61df"
      },
      "outputs": [],
      "source": [
        "by_Insur = df.groupby(\"PrimaryInsuranceCategory\", observed=False)\n",
        "\n",
        "# Perform the aggregations\n",
        "ave_by_Insur = by_Insur.agg(\n",
        "    aveLOS_hrs=pd.NamedAgg(column='OU_LOS_hrs', aggfunc='mean'),\n",
        "    percFlipped=pd.NamedAgg(column='Flipped', aggfunc='mean'),\n",
        "    n=pd.NamedAgg(column='OU_LOS_hrs', aggfunc='count')\n",
        ").reset_index()\n",
        "\n",
        "print(ave_by_Insur.to_markdown())"
      ]
    },
    {
      "cell_type": "code",
      "execution_count": null,
      "metadata": {
        "colab": {
          "base_uri": "https://localhost:8080/",
          "height": 556
        },
        "id": "v3paY6KRc_zS",
        "outputId": "a4cad3d5-c1c0-4e6a-f3d1-2d7bdca8e3ee"
      },
      "outputs": [],
      "source": [
        "#Bar chart of Percentage Flipped by PrimaryInsuranceCategory\n",
        "ave_by_Insur.plot(x='PrimaryInsuranceCategory', y='percFlipped', kind='bar',\n",
        "                  title='Percentage of Patients Who Flipped by Primary Insurance Category',\n",
        "                  xlabel='Primary Insurance Category', ylabel='Percentage Flipped',\n",
        "                  legend=False, rot=45)\n",
        "plt.show()"
      ]
    },
    {
      "cell_type": "code",
      "execution_count": null,
      "metadata": {
        "colab": {
          "base_uri": "https://localhost:8080/"
        },
        "id": "B_5Qed0OdRYd",
        "outputId": "9cec680b-a50d-4d08-845f-ab79183b71c6"
      },
      "outputs": [],
      "source": [
        "by_DRG_Insur = df.groupby([\"DRG01\", \"PrimaryInsuranceCategory\"], observed=False)\n",
        "ave_by_DRG_Insur = by_DRG_Insur['Flipped'].mean().reset_index()\n",
        "ave_by_DRG_Insur = ave_by_DRG_Insur.pivot_table(values='Flipped',\n",
        "                                                columns='PrimaryInsuranceCategory',\n",
        "                                                index=ave_by_DRG_Insur['DRG01'],\n",
        "                                                aggfunc='mean',\n",
        "                                                observed=False).reset_index()\n",
        "print(ave_by_DRG_Insur.to_markdown())"
      ]
    },
    {
      "cell_type": "code",
      "execution_count": null,
      "metadata": {
        "colab": {
          "base_uri": "https://localhost:8080/",
          "height": 484
        },
        "id": "-IsM7DWwdhx8",
        "outputId": "d98ccdab-549d-4d29-f07a-e00f0b0e6d01"
      },
      "outputs": [],
      "source": [
        "#Bar chart of Percentage Flipped by DRG and Insurance Type\n",
        "ave_by_DRG_Insur.plot(x='DRG01', kind='bar', stacked=True,\n",
        "                      title='Percentage of Patients Who Flipped by DRG and Primary Insurance Category',\n",
        "                      xlabel='DRG', ylabel='Percentage Flipped')\n",
        "plt.show()"
      ]
    },
    {
      "cell_type": "markdown",
      "metadata": {
        "id": "eww17gp9R52E"
      },
      "source": [
        "Great job! Now you have looked at various data summaries and visualizations to understand whether or not an observation status patient will flip."
      ]
    },
    {
      "cell_type": "markdown",
      "metadata": {
        "id": "6k_XjFg9-l6o"
      },
      "source": [
        "Additional tests conducted"
      ]
    },
    {
      "cell_type": "code",
      "execution_count": null,
      "metadata": {
        "colab": {
          "base_uri": "https://localhost:8080/"
        },
        "id": "2hF6m3My-p7X",
        "outputId": "bd81c81b-6821-403d-aa7b-9277a7da4450"
      },
      "outputs": [],
      "source": [
        "from scipy import stats\n",
        "\n",
        "# Perform a t-test to compare the average LOS between males and females\n",
        "male_los = df[df['Gender'] == 'Male']['OU_LOS_hrs']\n",
        "female_los = df[df['Gender'] == 'Female']['OU_LOS_hrs']\n",
        "t_statistic, p_value = stats.ttest_ind(male_los, female_los)\n",
        "\n",
        "print(\"T-statistic:\", t_statistic)\n",
        "print(\"P-value:\", p_value)\n"
      ]
    },
    {
      "cell_type": "code",
      "execution_count": null,
      "metadata": {
        "colab": {
          "base_uri": "https://localhost:8080/"
        },
        "id": "jg4mmmk2-syL",
        "outputId": "1c9ffff3-4fb4-4231-dbbf-ecbff68eba77"
      },
      "outputs": [],
      "source": [
        "from scipy import stats\n",
        "\n",
        "# Perform ANOVA to compare the average LOS between different DRG groups\n",
        "drg_groups = df['DRG01'].unique()\n",
        "los_by_drg = [df[df['DRG01'] == drg]['OU_LOS_hrs'] for drg in drg_groups]\n",
        "f_statistic, p_value = stats.f_oneway(*los_by_drg)\n",
        "\n",
        "print(\"F-statistic:\", f_statistic)\n",
        "print(\"P-value:\", p_value)"
      ]
    },
    {
      "cell_type": "code",
      "execution_count": null,
      "metadata": {
        "colab": {
          "base_uri": "https://localhost:8080/"
        },
        "id": "ozH3Qnms_6xc",
        "outputId": "6e39aa8d-e6b9-4644-f6f3-5765ef3e744a"
      },
      "outputs": [],
      "source": [
        "from statsmodels.stats.multicomp import pairwise_tukeyhsd\n",
        "\n",
        "# Perform Tukey's HSD post-hoc test\n",
        "tukey_result = pairwise_tukeyhsd(df['OU_LOS_hrs'], df['DRG01'], alpha=0.05)\n",
        "\n",
        "# Print the results\n",
        "print(tukey_result)"
      ]
    },
    {
      "cell_type": "code",
      "execution_count": null,
      "metadata": {
        "colab": {
          "base_uri": "https://localhost:8080/"
        },
        "id": "7F1mUONP-ugV",
        "outputId": "260f4b58-2f13-4934-ab44-a16b17cb901c"
      },
      "outputs": [],
      "source": [
        "from scipy import stats\n",
        "\n",
        "# Create a contingency table of gender and flipped status\n",
        "contingency_table = pd.crosstab(df['Gender'], df['Flipped'])\n",
        "\n",
        "# Perform a chi-squared test\n",
        "chi2_statistic, p_value, dof, expected = stats.chi2_contingency(contingency_table)\n",
        "\n",
        "print(\"Chi-squared statistic:\", chi2_statistic)\n",
        "print(\"P-value:\", p_value)"
      ]
    },
    {
      "cell_type": "code",
      "execution_count": null,
      "metadata": {
        "colab": {
          "base_uri": "https://localhost:8080/"
        },
        "id": "FHQSpwUp-vda",
        "outputId": "4f3738b2-3a48-4654-8d60-7caefde61a21"
      },
      "outputs": [],
      "source": [
        "# Calculate the correlation between age and LOS\n",
        "correlation = df['Age'].corr(df['OU_LOS_hrs'])\n",
        "\n",
        "print(\"Correlation:\", correlation)"
      ]
    },
    {
      "cell_type": "code",
      "execution_count": null,
      "metadata": {
        "colab": {
          "base_uri": "https://localhost:8080/"
        },
        "id": "qet9AGdV-v7v",
        "outputId": "032e2431-9402-4e59-a69c-a6f140b11cd4"
      },
      "outputs": [],
      "source": [
        "import statsmodels.formula.api as sm\n",
        "\n",
        "# Create a linear regression model to predict LOS based on age and gender\n",
        "model = sm.ols('OU_LOS_hrs ~ Age + Gender', data=df).fit()\n",
        "\n",
        "# Print the model summary\n",
        "print(model.summary())"
      ]
    },
    {
      "cell_type": "code",
      "execution_count": null,
      "metadata": {
        "colab": {
          "base_uri": "https://localhost:8080/"
        },
        "id": "GfeM7iSUBNdb",
        "outputId": "b8c01eb1-59dc-4e46-d2a5-861499e246cb"
      },
      "outputs": [],
      "source": [
        "import statsmodels.formula.api as sm\n",
        "\n",
        "# Create the linear regression model\n",
        "model = sm.ols('OU_LOS_hrs ~ Age + Gender + DRG01', data=df).fit()\n",
        "\n",
        "# Print the model summary\n",
        "print(model.summary())"
      ]
    },
    {
      "cell_type": "code",
      "execution_count": null,
      "metadata": {
        "colab": {
          "base_uri": "https://localhost:8080/"
        },
        "id": "fPGMbD3IFRl2",
        "outputId": "8d28dd7c-58fe-4857-8f62-27bd53c5c825"
      },
      "outputs": [],
      "source": [
        "import statsmodels.formula.api as sm\n",
        "\n",
        "# Create the linear regression model\n",
        "model1 = sm.ols('Flipped ~ Age + Gender + DRG01', data=df).fit()\n",
        "\n",
        "# Print the model summary\n",
        "print(model1.summary())"
      ]
    },
    {
      "cell_type": "code",
      "execution_count": null,
      "metadata": {
        "colab": {
          "base_uri": "https://localhost:8080/"
        },
        "id": "lEwJnxReHBsP",
        "outputId": "e62f98ce-f601-45c0-8b43-28e79188fb99"
      },
      "outputs": [],
      "source": [
        "import statsmodels.formula.api as sm\n",
        "\n",
        "# Create the linear regression model\n",
        "model3 = sm.ols('Flipped ~ Age + Gender + PrimaryInsuranceCategory + DRG01 + BloodPressureDiff + Pulse + PulseOximetry + Respirations + Temperature', data=df).fit()\n",
        "\n",
        "# Print the model summary\n",
        "print(model3.summary())"
      ]
    },
    {
      "cell_type": "code",
      "execution_count": null,
      "metadata": {
        "colab": {
          "base_uri": "https://localhost:8080/"
        },
        "id": "E2upXATDHoWU",
        "outputId": "0195b956-ecb5-4f12-c832-fb053da69dd4"
      },
      "outputs": [],
      "source": [
        "import statsmodels.formula.api as sm\n",
        "\n",
        "# Model 1: Only intercept\n",
        "model1 = sm.logit('Flipped ~ 1', data=df).fit()\n",
        "\n",
        "# Model 2: With all predictors\n",
        "model2 = sm.logit('Flipped ~ Age + Gender + PrimaryInsuranceCategory + DRG01 + BloodPressureDiff + Pulse + PulseOximetry + Respirations + Temperature', data=df).fit()\n",
        "\n",
        "# Compare deviances\n",
        "print(model1.summary())\n",
        "print(model2.summary())"
      ]
    }
  ],
  "metadata": {
    "colab": {
      "include_colab_link": true,
      "provenance": []
    },
    "kernelspec": {
      "display_name": "Python 3",
      "name": "python3"
    },
    "language_info": {
      "codemirror_mode": {
        "name": "ipython",
        "version": 3
      },
      "file_extension": ".py",
      "mimetype": "text/x-python",
      "name": "python",
      "nbconvert_exporter": "python",
      "pygments_lexer": "ipython3",
      "version": "3.12.1"
    }
  },
  "nbformat": 4,
  "nbformat_minor": 0
}
