{
  "cells": [
    {
      "cell_type": "markdown",
      "metadata": {
        "colab_type": "text",
        "id": "view-in-github"
      },
      "source": [
        "<a href=\"https://colab.research.google.com/github/cjgooutside/main/blob/main/DescriptiveAnalytics_Student.ipynb\" target=\"_parent\"><img src=\"https://colab.research.google.com/assets/colab-badge.svg\" alt=\"Open In Colab\"/></a>"
      ]
    },
    {
      "cell_type": "markdown",
      "metadata": {
        "id": "Yr1j30249Pz7"
      },
      "source": [
        "#Day 3 CP1: Observation Unit Case Exercise: Descriptive Analytics\n",
        "QTM7515 Reinforcement Learning, Dessislava A. Pachamanova"
      ]
    },
    {
      "cell_type": "code",
      "execution_count": 1,
      "metadata": {
        "id": "nH05KXit-Mqc"
      },
      "outputs": [],
      "source": [
        "# Import necessary Python libraries\n",
        "import numpy as np\n",
        "import pandas as pd\n",
        "import matplotlib.pyplot as plt"
      ]
    },
    {
      "cell_type": "code",
      "execution_count": 2,
      "metadata": {
        "colab": {
          "base_uri": "https://localhost:8080/"
        },
        "id": "YkzATGU69yJS",
        "outputId": "617848e6-0e7e-4d2e-9339-8f42536a6171"
      },
      "outputs": [
        {
          "ename": "ModuleNotFoundError",
          "evalue": "No module named 'google'",
          "output_type": "error",
          "traceback": [
            "\u001b[0;31m---------------------------------------------------------------------------\u001b[0m",
            "\u001b[0;31mModuleNotFoundError\u001b[0m                       Traceback (most recent call last)",
            "Cell \u001b[0;32mIn[2], line 2\u001b[0m\n\u001b[1;32m      1\u001b[0m \u001b[38;5;66;03m# Mount google drive so that your file folders are accessible to Colab\u001b[39;00m\n\u001b[0;32m----> 2\u001b[0m \u001b[38;5;28;01mfrom\u001b[39;00m\u001b[38;5;250m \u001b[39m\u001b[38;5;21;01mgoogle\u001b[39;00m\u001b[38;5;21;01m.\u001b[39;00m\u001b[38;5;21;01mcolab\u001b[39;00m\u001b[38;5;250m \u001b[39m\u001b[38;5;28;01mimport\u001b[39;00m drive\n\u001b[1;32m      3\u001b[0m drive\u001b[38;5;241m.\u001b[39mmount(\u001b[38;5;124m'\u001b[39m\u001b[38;5;124m/content/drive\u001b[39m\u001b[38;5;124m'\u001b[39m)\n",
            "\u001b[0;31mModuleNotFoundError\u001b[0m: No module named 'google'"
          ]
        }
      ],
      "source": [
        "# Mount google drive so that your file folders are accessible to Colab\n",
        "from google.colab import drive\n",
        "drive.mount('/content/drive')"
      ]
    },
    {
      "cell_type": "markdown",
      "metadata": {
        "id": "0qZjPR5gQ0bL"
      },
      "source": [
        "## Read in and preprocess data"
      ]
    },
    {
      "cell_type": "code",
      "execution_count": null,
      "metadata": {
        "colab": {
          "base_uri": "https://localhost:8080/",
          "height": 350
        },
        "id": "EKkmEYHt-FW5",
        "outputId": "4a9a96c6-adb8-46eb-de3d-6db4377aa81e"
      },
      "outputs": [
        {
          "ename": "FileNotFoundError",
          "evalue": "[Errno 2] No such file or directory: '/content/drive/My Drive/Colab Notebooks/OUCase/OUDataClean.csv'",
          "output_type": "error",
          "traceback": [
            "\u001b[0;31m---------------------------------------------------------------------------\u001b[0m",
            "\u001b[0;31mFileNotFoundError\u001b[0m                         Traceback (most recent call last)",
            "\u001b[0;32m<ipython-input-5-880e2d7610a2>\u001b[0m in \u001b[0;36m<cell line: 0>\u001b[0;34m()\u001b[0m\n\u001b[1;32m      1\u001b[0m \u001b[0;31m# Read in csv file and store into a dataframe called df\u001b[0m\u001b[0;34m\u001b[0m\u001b[0;34m\u001b[0m\u001b[0m\n\u001b[0;32m----> 2\u001b[0;31m \u001b[0mdf\u001b[0m \u001b[0;34m=\u001b[0m \u001b[0mpd\u001b[0m\u001b[0;34m.\u001b[0m\u001b[0mread_csv\u001b[0m\u001b[0;34m(\u001b[0m\u001b[0;34m\"/content/drive/My Drive/Colab Notebooks/OUCase/OUDataClean.csv\"\u001b[0m\u001b[0;34m,\u001b[0m \u001b[0msep\u001b[0m\u001b[0;34m=\u001b[0m\u001b[0;34m','\u001b[0m\u001b[0;34m)\u001b[0m\u001b[0;34m\u001b[0m\u001b[0;34m\u001b[0m\u001b[0m\n\u001b[0m",
            "\u001b[0;32m/usr/local/lib/python3.11/dist-packages/pandas/io/parsers/readers.py\u001b[0m in \u001b[0;36mread_csv\u001b[0;34m(filepath_or_buffer, sep, delimiter, header, names, index_col, usecols, dtype, engine, converters, true_values, false_values, skipinitialspace, skiprows, skipfooter, nrows, na_values, keep_default_na, na_filter, verbose, skip_blank_lines, parse_dates, infer_datetime_format, keep_date_col, date_parser, date_format, dayfirst, cache_dates, iterator, chunksize, compression, thousands, decimal, lineterminator, quotechar, quoting, doublequote, escapechar, comment, encoding, encoding_errors, dialect, on_bad_lines, delim_whitespace, low_memory, memory_map, float_precision, storage_options, dtype_backend)\u001b[0m\n\u001b[1;32m   1024\u001b[0m     \u001b[0mkwds\u001b[0m\u001b[0;34m.\u001b[0m\u001b[0mupdate\u001b[0m\u001b[0;34m(\u001b[0m\u001b[0mkwds_defaults\u001b[0m\u001b[0;34m)\u001b[0m\u001b[0;34m\u001b[0m\u001b[0;34m\u001b[0m\u001b[0m\n\u001b[1;32m   1025\u001b[0m \u001b[0;34m\u001b[0m\u001b[0m\n\u001b[0;32m-> 1026\u001b[0;31m     \u001b[0;32mreturn\u001b[0m \u001b[0m_read\u001b[0m\u001b[0;34m(\u001b[0m\u001b[0mfilepath_or_buffer\u001b[0m\u001b[0;34m,\u001b[0m \u001b[0mkwds\u001b[0m\u001b[0;34m)\u001b[0m\u001b[0;34m\u001b[0m\u001b[0;34m\u001b[0m\u001b[0m\n\u001b[0m\u001b[1;32m   1027\u001b[0m \u001b[0;34m\u001b[0m\u001b[0m\n\u001b[1;32m   1028\u001b[0m \u001b[0;34m\u001b[0m\u001b[0m\n",
            "\u001b[0;32m/usr/local/lib/python3.11/dist-packages/pandas/io/parsers/readers.py\u001b[0m in \u001b[0;36m_read\u001b[0;34m(filepath_or_buffer, kwds)\u001b[0m\n\u001b[1;32m    618\u001b[0m \u001b[0;34m\u001b[0m\u001b[0m\n\u001b[1;32m    619\u001b[0m     \u001b[0;31m# Create the parser.\u001b[0m\u001b[0;34m\u001b[0m\u001b[0;34m\u001b[0m\u001b[0m\n\u001b[0;32m--> 620\u001b[0;31m     \u001b[0mparser\u001b[0m \u001b[0;34m=\u001b[0m \u001b[0mTextFileReader\u001b[0m\u001b[0;34m(\u001b[0m\u001b[0mfilepath_or_buffer\u001b[0m\u001b[0;34m,\u001b[0m \u001b[0;34m**\u001b[0m\u001b[0mkwds\u001b[0m\u001b[0;34m)\u001b[0m\u001b[0;34m\u001b[0m\u001b[0;34m\u001b[0m\u001b[0m\n\u001b[0m\u001b[1;32m    621\u001b[0m \u001b[0;34m\u001b[0m\u001b[0m\n\u001b[1;32m    622\u001b[0m     \u001b[0;32mif\u001b[0m \u001b[0mchunksize\u001b[0m \u001b[0;32mor\u001b[0m \u001b[0miterator\u001b[0m\u001b[0;34m:\u001b[0m\u001b[0;34m\u001b[0m\u001b[0;34m\u001b[0m\u001b[0m\n",
            "\u001b[0;32m/usr/local/lib/python3.11/dist-packages/pandas/io/parsers/readers.py\u001b[0m in \u001b[0;36m__init__\u001b[0;34m(self, f, engine, **kwds)\u001b[0m\n\u001b[1;32m   1618\u001b[0m \u001b[0;34m\u001b[0m\u001b[0m\n\u001b[1;32m   1619\u001b[0m         \u001b[0mself\u001b[0m\u001b[0;34m.\u001b[0m\u001b[0mhandles\u001b[0m\u001b[0;34m:\u001b[0m \u001b[0mIOHandles\u001b[0m \u001b[0;34m|\u001b[0m \u001b[0;32mNone\u001b[0m \u001b[0;34m=\u001b[0m \u001b[0;32mNone\u001b[0m\u001b[0;34m\u001b[0m\u001b[0;34m\u001b[0m\u001b[0m\n\u001b[0;32m-> 1620\u001b[0;31m         \u001b[0mself\u001b[0m\u001b[0;34m.\u001b[0m\u001b[0m_engine\u001b[0m \u001b[0;34m=\u001b[0m \u001b[0mself\u001b[0m\u001b[0;34m.\u001b[0m\u001b[0m_make_engine\u001b[0m\u001b[0;34m(\u001b[0m\u001b[0mf\u001b[0m\u001b[0;34m,\u001b[0m \u001b[0mself\u001b[0m\u001b[0;34m.\u001b[0m\u001b[0mengine\u001b[0m\u001b[0;34m)\u001b[0m\u001b[0;34m\u001b[0m\u001b[0;34m\u001b[0m\u001b[0m\n\u001b[0m\u001b[1;32m   1621\u001b[0m \u001b[0;34m\u001b[0m\u001b[0m\n\u001b[1;32m   1622\u001b[0m     \u001b[0;32mdef\u001b[0m \u001b[0mclose\u001b[0m\u001b[0;34m(\u001b[0m\u001b[0mself\u001b[0m\u001b[0;34m)\u001b[0m \u001b[0;34m->\u001b[0m \u001b[0;32mNone\u001b[0m\u001b[0;34m:\u001b[0m\u001b[0;34m\u001b[0m\u001b[0;34m\u001b[0m\u001b[0m\n",
            "\u001b[0;32m/usr/local/lib/python3.11/dist-packages/pandas/io/parsers/readers.py\u001b[0m in \u001b[0;36m_make_engine\u001b[0;34m(self, f, engine)\u001b[0m\n\u001b[1;32m   1878\u001b[0m                 \u001b[0;32mif\u001b[0m \u001b[0;34m\"b\"\u001b[0m \u001b[0;32mnot\u001b[0m \u001b[0;32min\u001b[0m \u001b[0mmode\u001b[0m\u001b[0;34m:\u001b[0m\u001b[0;34m\u001b[0m\u001b[0;34m\u001b[0m\u001b[0m\n\u001b[1;32m   1879\u001b[0m                     \u001b[0mmode\u001b[0m \u001b[0;34m+=\u001b[0m \u001b[0;34m\"b\"\u001b[0m\u001b[0;34m\u001b[0m\u001b[0;34m\u001b[0m\u001b[0m\n\u001b[0;32m-> 1880\u001b[0;31m             self.handles = get_handle(\n\u001b[0m\u001b[1;32m   1881\u001b[0m                 \u001b[0mf\u001b[0m\u001b[0;34m,\u001b[0m\u001b[0;34m\u001b[0m\u001b[0;34m\u001b[0m\u001b[0m\n\u001b[1;32m   1882\u001b[0m                 \u001b[0mmode\u001b[0m\u001b[0;34m,\u001b[0m\u001b[0;34m\u001b[0m\u001b[0;34m\u001b[0m\u001b[0m\n",
            "\u001b[0;32m/usr/local/lib/python3.11/dist-packages/pandas/io/common.py\u001b[0m in \u001b[0;36mget_handle\u001b[0;34m(path_or_buf, mode, encoding, compression, memory_map, is_text, errors, storage_options)\u001b[0m\n\u001b[1;32m    871\u001b[0m         \u001b[0;32mif\u001b[0m \u001b[0mioargs\u001b[0m\u001b[0;34m.\u001b[0m\u001b[0mencoding\u001b[0m \u001b[0;32mand\u001b[0m \u001b[0;34m\"b\"\u001b[0m \u001b[0;32mnot\u001b[0m \u001b[0;32min\u001b[0m \u001b[0mioargs\u001b[0m\u001b[0;34m.\u001b[0m\u001b[0mmode\u001b[0m\u001b[0;34m:\u001b[0m\u001b[0;34m\u001b[0m\u001b[0;34m\u001b[0m\u001b[0m\n\u001b[1;32m    872\u001b[0m             \u001b[0;31m# Encoding\u001b[0m\u001b[0;34m\u001b[0m\u001b[0;34m\u001b[0m\u001b[0m\n\u001b[0;32m--> 873\u001b[0;31m             handle = open(\n\u001b[0m\u001b[1;32m    874\u001b[0m                 \u001b[0mhandle\u001b[0m\u001b[0;34m,\u001b[0m\u001b[0;34m\u001b[0m\u001b[0;34m\u001b[0m\u001b[0m\n\u001b[1;32m    875\u001b[0m                 \u001b[0mioargs\u001b[0m\u001b[0;34m.\u001b[0m\u001b[0mmode\u001b[0m\u001b[0;34m,\u001b[0m\u001b[0;34m\u001b[0m\u001b[0;34m\u001b[0m\u001b[0m\n",
            "\u001b[0;31mFileNotFoundError\u001b[0m: [Errno 2] No such file or directory: '/content/drive/My Drive/Colab Notebooks/OUCase/OUDataClean.csv'"
          ]
        }
      ],
      "source": [
        "# Read in csv file and store into a dataframe called df\n",
        "df = pd.read_csv(\"/content/drive/My Drive/Colab Notebooks/OUCase/OUDataClean.csv\", sep=',')"
      ]
    },
    {
      "cell_type": "code",
      "execution_count": null,
      "metadata": {
        "id": "eL-Fkh4n3kP4"
      },
      "outputs": [],
      "source": [
        "# Read in csv file and store into a dataframe called df\n",
        "df = pd.read_csv(\"/content/drive/My Drive/QTM7515RL/OUDataClean.csv\", sep=',')"
      ]
    },
    {
      "cell_type": "code",
      "execution_count": null,
      "metadata": {
        "colab": {
          "base_uri": "https://localhost:8080/",
          "height": 528
        },
        "id": "-NI7myoI-vls",
        "outputId": "9774dab2-28cd-4220-9396-881f760f1c5d"
      },
      "outputs": [
        {
          "name": "stdout",
          "output_type": "stream",
          "text": [
            "First 5 rows:\n"
          ]
        },
        {
          "data": {
            "application/vnd.google.colaboratory.intrinsic+json": {
              "summary": "{\n  \"name\": \"display(df\",\n  \"rows\": 5,\n  \"fields\": [\n    {\n      \"column\": \"ObservationRecordKey\",\n      \"properties\": {\n        \"dtype\": \"string\",\n        \"num_unique_values\": 5,\n        \"samples\": [\n          \"443621z2\",\n          \"763005z1\",\n          \"131565z1\"\n        ],\n        \"semantic_type\": \"\",\n        \"description\": \"\"\n      }\n    },\n    {\n      \"column\": \"Age\",\n      \"properties\": {\n        \"dtype\": \"number\",\n        \"std\": 14,\n        \"min\": 54,\n        \"max\": 89,\n        \"num_unique_values\": 4,\n        \"samples\": [\n          89,\n          81,\n          54\n        ],\n        \"semantic_type\": \"\",\n        \"description\": \"\"\n      }\n    },\n    {\n      \"column\": \"Gender\",\n      \"properties\": {\n        \"dtype\": \"category\",\n        \"num_unique_values\": 2,\n        \"samples\": [\n          \"Female\",\n          \"Male\"\n        ],\n        \"semantic_type\": \"\",\n        \"description\": \"\"\n      }\n    },\n    {\n      \"column\": \"PrimaryInsuranceCategory\",\n      \"properties\": {\n        \"dtype\": \"string\",\n        \"num_unique_values\": 3,\n        \"samples\": [\n          \"MEDICAID STATE\",\n          \"MEDICARE\"\n        ],\n        \"semantic_type\": \"\",\n        \"description\": \"\"\n      }\n    },\n    {\n      \"column\": \"InitPatientClassAndFirstPostOUClass\",\n      \"properties\": {\n        \"dtype\": \"category\",\n        \"num_unique_values\": 2,\n        \"samples\": [\n          \"OBSERVATION->OBSERVATION\",\n          \"OBSERVATION->INPATIENT\"\n        ],\n        \"semantic_type\": \"\",\n        \"description\": \"\"\n      }\n    },\n    {\n      \"column\": \"Flipped\",\n      \"properties\": {\n        \"dtype\": \"number\",\n        \"std\": 0,\n        \"min\": 0,\n        \"max\": 1,\n        \"num_unique_values\": 2,\n        \"samples\": [\n          0,\n          1\n        ],\n        \"semantic_type\": \"\",\n        \"description\": \"\"\n      }\n    },\n    {\n      \"column\": \"OU_LOS_hrs\",\n      \"properties\": {\n        \"dtype\": \"number\",\n        \"std\": 38.09304398443369,\n        \"min\": 13.3,\n        \"max\": 96.3,\n        \"num_unique_values\": 5,\n        \"samples\": [\n          89.7,\n          25.4\n        ],\n        \"semantic_type\": \"\",\n        \"description\": \"\"\n      }\n    },\n    {\n      \"column\": \"DRG01\",\n      \"properties\": {\n        \"dtype\": \"number\",\n        \"std\": 177,\n        \"min\": 428,\n        \"max\": 786,\n        \"num_unique_values\": 4,\n        \"samples\": [\n          599,\n          780\n        ],\n        \"semantic_type\": \"\",\n        \"description\": \"\"\n      }\n    },\n    {\n      \"column\": \"BloodPressureUpper\",\n      \"properties\": {\n        \"dtype\": \"number\",\n        \"std\": 27,\n        \"min\": 102,\n        \"max\": 162,\n        \"num_unique_values\": 5,\n        \"samples\": [\n          123,\n          102\n        ],\n        \"semantic_type\": \"\",\n        \"description\": \"\"\n      }\n    },\n    {\n      \"column\": \"BloodPressureLower\",\n      \"properties\": {\n        \"dtype\": \"number\",\n        \"std\": 22,\n        \"min\": 55,\n        \"max\": 111,\n        \"num_unique_values\": 5,\n        \"samples\": [\n          64,\n          60\n        ],\n        \"semantic_type\": \"\",\n        \"description\": \"\"\n      }\n    },\n    {\n      \"column\": \"BloodPressureDiff\",\n      \"properties\": {\n        \"dtype\": \"number\",\n        \"std\": 24,\n        \"min\": 26,\n        \"max\": 83,\n        \"num_unique_values\": 5,\n        \"samples\": [\n          68,\n          49\n        ],\n        \"semantic_type\": \"\",\n        \"description\": \"\"\n      }\n    },\n    {\n      \"column\": \"Pulse\",\n      \"properties\": {\n        \"dtype\": \"number\",\n        \"std\": 7,\n        \"min\": 67,\n        \"max\": 86,\n        \"num_unique_values\": 5,\n        \"samples\": [\n          86,\n          67\n        ],\n        \"semantic_type\": \"\",\n        \"description\": \"\"\n      }\n    },\n    {\n      \"column\": \"PulseOximetry\",\n      \"properties\": {\n        \"dtype\": \"number\",\n        \"std\": 2,\n        \"min\": 94,\n        \"max\": 100,\n        \"num_unique_values\": 4,\n        \"samples\": [\n          94,\n          99\n        ],\n        \"semantic_type\": \"\",\n        \"description\": \"\"\n      }\n    },\n    {\n      \"column\": \"Respirations\",\n      \"properties\": {\n        \"dtype\": \"number\",\n        \"std\": 4,\n        \"min\": 10,\n        \"max\": 24,\n        \"num_unique_values\": 3,\n        \"samples\": [\n          18,\n          24\n        ],\n        \"semantic_type\": \"\",\n        \"description\": \"\"\n      }\n    },\n    {\n      \"column\": \"Temperature\",\n      \"properties\": {\n        \"dtype\": \"number\",\n        \"std\": 1.0709808588392196,\n        \"min\": 95.9,\n        \"max\": 98.6,\n        \"num_unique_values\": 5,\n        \"samples\": [\n          95.9,\n          98.6\n        ],\n        \"semantic_type\": \"\",\n        \"description\": \"\"\n      }\n    }\n  ]\n}",
              "type": "dataframe"
            },
            "text/html": [
              "\n",
              "  <div id=\"df-e2ed24c7-9f1c-4ac0-904b-13dc912979d9\" class=\"colab-df-container\">\n",
              "    <div>\n",
              "<style scoped>\n",
              "    .dataframe tbody tr th:only-of-type {\n",
              "        vertical-align: middle;\n",
              "    }\n",
              "\n",
              "    .dataframe tbody tr th {\n",
              "        vertical-align: top;\n",
              "    }\n",
              "\n",
              "    .dataframe thead th {\n",
              "        text-align: right;\n",
              "    }\n",
              "</style>\n",
              "<table border=\"1\" class=\"dataframe\">\n",
              "  <thead>\n",
              "    <tr style=\"text-align: right;\">\n",
              "      <th></th>\n",
              "      <th>ObservationRecordKey</th>\n",
              "      <th>Age</th>\n",
              "      <th>Gender</th>\n",
              "      <th>PrimaryInsuranceCategory</th>\n",
              "      <th>InitPatientClassAndFirstPostOUClass</th>\n",
              "      <th>Flipped</th>\n",
              "      <th>OU_LOS_hrs</th>\n",
              "      <th>DRG01</th>\n",
              "      <th>BloodPressureUpper</th>\n",
              "      <th>BloodPressureLower</th>\n",
              "      <th>BloodPressureDiff</th>\n",
              "      <th>Pulse</th>\n",
              "      <th>PulseOximetry</th>\n",
              "      <th>Respirations</th>\n",
              "      <th>Temperature</th>\n",
              "    </tr>\n",
              "  </thead>\n",
              "  <tbody>\n",
              "    <tr>\n",
              "      <th>0</th>\n",
              "      <td>905459x1</td>\n",
              "      <td>54</td>\n",
              "      <td>Male</td>\n",
              "      <td>MEDICAID STATE</td>\n",
              "      <td>OBSERVATION-&gt;INPATIENT</td>\n",
              "      <td>1</td>\n",
              "      <td>37.3</td>\n",
              "      <td>428</td>\n",
              "      <td>153</td>\n",
              "      <td>111</td>\n",
              "      <td>26</td>\n",
              "      <td>73</td>\n",
              "      <td>100</td>\n",
              "      <td>18</td>\n",
              "      <td>98.2</td>\n",
              "    </tr>\n",
              "    <tr>\n",
              "      <th>1</th>\n",
              "      <td>443621z2</td>\n",
              "      <td>89</td>\n",
              "      <td>Female</td>\n",
              "      <td>MEDICARE</td>\n",
              "      <td>OBSERVATION-&gt;OBSERVATION</td>\n",
              "      <td>0</td>\n",
              "      <td>89.7</td>\n",
              "      <td>599</td>\n",
              "      <td>123</td>\n",
              "      <td>64</td>\n",
              "      <td>68</td>\n",
              "      <td>86</td>\n",
              "      <td>94</td>\n",
              "      <td>18</td>\n",
              "      <td>95.9</td>\n",
              "    </tr>\n",
              "    <tr>\n",
              "      <th>2</th>\n",
              "      <td>131565z1</td>\n",
              "      <td>83</td>\n",
              "      <td>Female</td>\n",
              "      <td>MEDICARE</td>\n",
              "      <td>OBSERVATION-&gt;INPATIENT</td>\n",
              "      <td>1</td>\n",
              "      <td>96.3</td>\n",
              "      <td>786</td>\n",
              "      <td>105</td>\n",
              "      <td>55</td>\n",
              "      <td>29</td>\n",
              "      <td>81</td>\n",
              "      <td>94</td>\n",
              "      <td>18</td>\n",
              "      <td>97.3</td>\n",
              "    </tr>\n",
              "    <tr>\n",
              "      <th>3</th>\n",
              "      <td>438080x1</td>\n",
              "      <td>89</td>\n",
              "      <td>Female</td>\n",
              "      <td>MEDICARE</td>\n",
              "      <td>OBSERVATION-&gt;OBSERVATION</td>\n",
              "      <td>0</td>\n",
              "      <td>13.3</td>\n",
              "      <td>780</td>\n",
              "      <td>162</td>\n",
              "      <td>73</td>\n",
              "      <td>83</td>\n",
              "      <td>76</td>\n",
              "      <td>97</td>\n",
              "      <td>24</td>\n",
              "      <td>98.1</td>\n",
              "    </tr>\n",
              "    <tr>\n",
              "      <th>4</th>\n",
              "      <td>763005z1</td>\n",
              "      <td>81</td>\n",
              "      <td>Female</td>\n",
              "      <td>MEDICARE OTHER</td>\n",
              "      <td>OBSERVATION-&gt;OBSERVATION</td>\n",
              "      <td>0</td>\n",
              "      <td>25.4</td>\n",
              "      <td>428</td>\n",
              "      <td>102</td>\n",
              "      <td>60</td>\n",
              "      <td>49</td>\n",
              "      <td>67</td>\n",
              "      <td>99</td>\n",
              "      <td>10</td>\n",
              "      <td>98.6</td>\n",
              "    </tr>\n",
              "  </tbody>\n",
              "</table>\n",
              "</div>\n",
              "    <div class=\"colab-df-buttons\">\n",
              "\n",
              "  <div class=\"colab-df-container\">\n",
              "    <button class=\"colab-df-convert\" onclick=\"convertToInteractive('df-e2ed24c7-9f1c-4ac0-904b-13dc912979d9')\"\n",
              "            title=\"Convert this dataframe to an interactive table.\"\n",
              "            style=\"display:none;\">\n",
              "\n",
              "  <svg xmlns=\"http://www.w3.org/2000/svg\" height=\"24px\" viewBox=\"0 -960 960 960\">\n",
              "    <path d=\"M120-120v-720h720v720H120Zm60-500h600v-160H180v160Zm220 220h160v-160H400v160Zm0 220h160v-160H400v160ZM180-400h160v-160H180v160Zm440 0h160v-160H620v160ZM180-180h160v-160H180v160Zm440 0h160v-160H620v160Z\"/>\n",
              "  </svg>\n",
              "    </button>\n",
              "\n",
              "  <style>\n",
              "    .colab-df-container {\n",
              "      display:flex;\n",
              "      gap: 12px;\n",
              "    }\n",
              "\n",
              "    .colab-df-convert {\n",
              "      background-color: #E8F0FE;\n",
              "      border: none;\n",
              "      border-radius: 50%;\n",
              "      cursor: pointer;\n",
              "      display: none;\n",
              "      fill: #1967D2;\n",
              "      height: 32px;\n",
              "      padding: 0 0 0 0;\n",
              "      width: 32px;\n",
              "    }\n",
              "\n",
              "    .colab-df-convert:hover {\n",
              "      background-color: #E2EBFA;\n",
              "      box-shadow: 0px 1px 2px rgba(60, 64, 67, 0.3), 0px 1px 3px 1px rgba(60, 64, 67, 0.15);\n",
              "      fill: #174EA6;\n",
              "    }\n",
              "\n",
              "    .colab-df-buttons div {\n",
              "      margin-bottom: 4px;\n",
              "    }\n",
              "\n",
              "    [theme=dark] .colab-df-convert {\n",
              "      background-color: #3B4455;\n",
              "      fill: #D2E3FC;\n",
              "    }\n",
              "\n",
              "    [theme=dark] .colab-df-convert:hover {\n",
              "      background-color: #434B5C;\n",
              "      box-shadow: 0px 1px 3px 1px rgba(0, 0, 0, 0.15);\n",
              "      filter: drop-shadow(0px 1px 2px rgba(0, 0, 0, 0.3));\n",
              "      fill: #FFFFFF;\n",
              "    }\n",
              "  </style>\n",
              "\n",
              "    <script>\n",
              "      const buttonEl =\n",
              "        document.querySelector('#df-e2ed24c7-9f1c-4ac0-904b-13dc912979d9 button.colab-df-convert');\n",
              "      buttonEl.style.display =\n",
              "        google.colab.kernel.accessAllowed ? 'block' : 'none';\n",
              "\n",
              "      async function convertToInteractive(key) {\n",
              "        const element = document.querySelector('#df-e2ed24c7-9f1c-4ac0-904b-13dc912979d9');\n",
              "        const dataTable =\n",
              "          await google.colab.kernel.invokeFunction('convertToInteractive',\n",
              "                                                    [key], {});\n",
              "        if (!dataTable) return;\n",
              "\n",
              "        const docLinkHtml = 'Like what you see? Visit the ' +\n",
              "          '<a target=\"_blank\" href=https://colab.research.google.com/notebooks/data_table.ipynb>data table notebook</a>'\n",
              "          + ' to learn more about interactive tables.';\n",
              "        element.innerHTML = '';\n",
              "        dataTable['output_type'] = 'display_data';\n",
              "        await google.colab.output.renderOutput(dataTable, element);\n",
              "        const docLink = document.createElement('div');\n",
              "        docLink.innerHTML = docLinkHtml;\n",
              "        element.appendChild(docLink);\n",
              "      }\n",
              "    </script>\n",
              "  </div>\n",
              "\n",
              "\n",
              "<div id=\"df-02032ce5-8de3-4770-85c6-0ea241884fdf\">\n",
              "  <button class=\"colab-df-quickchart\" onclick=\"quickchart('df-02032ce5-8de3-4770-85c6-0ea241884fdf')\"\n",
              "            title=\"Suggest charts\"\n",
              "            style=\"display:none;\">\n",
              "\n",
              "<svg xmlns=\"http://www.w3.org/2000/svg\" height=\"24px\"viewBox=\"0 0 24 24\"\n",
              "     width=\"24px\">\n",
              "    <g>\n",
              "        <path d=\"M19 3H5c-1.1 0-2 .9-2 2v14c0 1.1.9 2 2 2h14c1.1 0 2-.9 2-2V5c0-1.1-.9-2-2-2zM9 17H7v-7h2v7zm4 0h-2V7h2v10zm4 0h-2v-4h2v4z\"/>\n",
              "    </g>\n",
              "</svg>\n",
              "  </button>\n",
              "\n",
              "<style>\n",
              "  .colab-df-quickchart {\n",
              "      --bg-color: #E8F0FE;\n",
              "      --fill-color: #1967D2;\n",
              "      --hover-bg-color: #E2EBFA;\n",
              "      --hover-fill-color: #174EA6;\n",
              "      --disabled-fill-color: #AAA;\n",
              "      --disabled-bg-color: #DDD;\n",
              "  }\n",
              "\n",
              "  [theme=dark] .colab-df-quickchart {\n",
              "      --bg-color: #3B4455;\n",
              "      --fill-color: #D2E3FC;\n",
              "      --hover-bg-color: #434B5C;\n",
              "      --hover-fill-color: #FFFFFF;\n",
              "      --disabled-bg-color: #3B4455;\n",
              "      --disabled-fill-color: #666;\n",
              "  }\n",
              "\n",
              "  .colab-df-quickchart {\n",
              "    background-color: var(--bg-color);\n",
              "    border: none;\n",
              "    border-radius: 50%;\n",
              "    cursor: pointer;\n",
              "    display: none;\n",
              "    fill: var(--fill-color);\n",
              "    height: 32px;\n",
              "    padding: 0;\n",
              "    width: 32px;\n",
              "  }\n",
              "\n",
              "  .colab-df-quickchart:hover {\n",
              "    background-color: var(--hover-bg-color);\n",
              "    box-shadow: 0 1px 2px rgba(60, 64, 67, 0.3), 0 1px 3px 1px rgba(60, 64, 67, 0.15);\n",
              "    fill: var(--button-hover-fill-color);\n",
              "  }\n",
              "\n",
              "  .colab-df-quickchart-complete:disabled,\n",
              "  .colab-df-quickchart-complete:disabled:hover {\n",
              "    background-color: var(--disabled-bg-color);\n",
              "    fill: var(--disabled-fill-color);\n",
              "    box-shadow: none;\n",
              "  }\n",
              "\n",
              "  .colab-df-spinner {\n",
              "    border: 2px solid var(--fill-color);\n",
              "    border-color: transparent;\n",
              "    border-bottom-color: var(--fill-color);\n",
              "    animation:\n",
              "      spin 1s steps(1) infinite;\n",
              "  }\n",
              "\n",
              "  @keyframes spin {\n",
              "    0% {\n",
              "      border-color: transparent;\n",
              "      border-bottom-color: var(--fill-color);\n",
              "      border-left-color: var(--fill-color);\n",
              "    }\n",
              "    20% {\n",
              "      border-color: transparent;\n",
              "      border-left-color: var(--fill-color);\n",
              "      border-top-color: var(--fill-color);\n",
              "    }\n",
              "    30% {\n",
              "      border-color: transparent;\n",
              "      border-left-color: var(--fill-color);\n",
              "      border-top-color: var(--fill-color);\n",
              "      border-right-color: var(--fill-color);\n",
              "    }\n",
              "    40% {\n",
              "      border-color: transparent;\n",
              "      border-right-color: var(--fill-color);\n",
              "      border-top-color: var(--fill-color);\n",
              "    }\n",
              "    60% {\n",
              "      border-color: transparent;\n",
              "      border-right-color: var(--fill-color);\n",
              "    }\n",
              "    80% {\n",
              "      border-color: transparent;\n",
              "      border-right-color: var(--fill-color);\n",
              "      border-bottom-color: var(--fill-color);\n",
              "    }\n",
              "    90% {\n",
              "      border-color: transparent;\n",
              "      border-bottom-color: var(--fill-color);\n",
              "    }\n",
              "  }\n",
              "</style>\n",
              "\n",
              "  <script>\n",
              "    async function quickchart(key) {\n",
              "      const quickchartButtonEl =\n",
              "        document.querySelector('#' + key + ' button');\n",
              "      quickchartButtonEl.disabled = true;  // To prevent multiple clicks.\n",
              "      quickchartButtonEl.classList.add('colab-df-spinner');\n",
              "      try {\n",
              "        const charts = await google.colab.kernel.invokeFunction(\n",
              "            'suggestCharts', [key], {});\n",
              "      } catch (error) {\n",
              "        console.error('Error during call to suggestCharts:', error);\n",
              "      }\n",
              "      quickchartButtonEl.classList.remove('colab-df-spinner');\n",
              "      quickchartButtonEl.classList.add('colab-df-quickchart-complete');\n",
              "    }\n",
              "    (() => {\n",
              "      let quickchartButtonEl =\n",
              "        document.querySelector('#df-02032ce5-8de3-4770-85c6-0ea241884fdf button');\n",
              "      quickchartButtonEl.style.display =\n",
              "        google.colab.kernel.accessAllowed ? 'block' : 'none';\n",
              "    })();\n",
              "  </script>\n",
              "</div>\n",
              "\n",
              "    </div>\n",
              "  </div>\n"
            ],
            "text/plain": [
              "  ObservationRecordKey  Age  Gender PrimaryInsuranceCategory  \\\n",
              "0             905459x1   54    Male           MEDICAID STATE   \n",
              "1             443621z2   89  Female                 MEDICARE   \n",
              "2             131565z1   83  Female                 MEDICARE   \n",
              "3             438080x1   89  Female                 MEDICARE   \n",
              "4             763005z1   81  Female           MEDICARE OTHER   \n",
              "\n",
              "  InitPatientClassAndFirstPostOUClass  Flipped  OU_LOS_hrs  DRG01  \\\n",
              "0              OBSERVATION->INPATIENT        1        37.3    428   \n",
              "1            OBSERVATION->OBSERVATION        0        89.7    599   \n",
              "2              OBSERVATION->INPATIENT        1        96.3    786   \n",
              "3            OBSERVATION->OBSERVATION        0        13.3    780   \n",
              "4            OBSERVATION->OBSERVATION        0        25.4    428   \n",
              "\n",
              "   BloodPressureUpper  BloodPressureLower  BloodPressureDiff  Pulse  \\\n",
              "0                 153                 111                 26     73   \n",
              "1                 123                  64                 68     86   \n",
              "2                 105                  55                 29     81   \n",
              "3                 162                  73                 83     76   \n",
              "4                 102                  60                 49     67   \n",
              "\n",
              "   PulseOximetry  Respirations  Temperature  \n",
              "0            100            18         98.2  \n",
              "1             94            18         95.9  \n",
              "2             94            18         97.3  \n",
              "3             97            24         98.1  \n",
              "4             99            10         98.6  "
            ]
          },
          "metadata": {},
          "output_type": "display_data"
        },
        {
          "name": "stdout",
          "output_type": "stream",
          "text": [
            "\n",
            "Last 3 rows:\n"
          ]
        },
        {
          "data": {
            "application/vnd.google.colaboratory.intrinsic+json": {
              "summary": "{\n  \"name\": \"display(df\",\n  \"rows\": 3,\n  \"fields\": [\n    {\n      \"column\": \"ObservationRecordKey\",\n      \"properties\": {\n        \"dtype\": \"string\",\n        \"num_unique_values\": 3,\n        \"samples\": [\n          \"141193z1\",\n          \"928081x4\",\n          \"774162z1\"\n        ],\n        \"semantic_type\": \"\",\n        \"description\": \"\"\n      }\n    },\n    {\n      \"column\": \"Age\",\n      \"properties\": {\n        \"dtype\": \"number\",\n        \"std\": 22,\n        \"min\": 37,\n        \"max\": 80,\n        \"num_unique_values\": 3,\n        \"samples\": [\n          80,\n          37,\n          50\n        ],\n        \"semantic_type\": \"\",\n        \"description\": \"\"\n      }\n    },\n    {\n      \"column\": \"Gender\",\n      \"properties\": {\n        \"dtype\": \"category\",\n        \"num_unique_values\": 1,\n        \"samples\": [\n          \"Female\"\n        ],\n        \"semantic_type\": \"\",\n        \"description\": \"\"\n      }\n    },\n    {\n      \"column\": \"PrimaryInsuranceCategory\",\n      \"properties\": {\n        \"dtype\": \"string\",\n        \"num_unique_values\": 3,\n        \"samples\": [\n          \"MEDICARE OTHER\"\n        ],\n        \"semantic_type\": \"\",\n        \"description\": \"\"\n      }\n    },\n    {\n      \"column\": \"InitPatientClassAndFirstPostOUClass\",\n      \"properties\": {\n        \"dtype\": \"category\",\n        \"num_unique_values\": 1,\n        \"samples\": [\n          \"OBSERVATION->OBSERVATION\"\n        ],\n        \"semantic_type\": \"\",\n        \"description\": \"\"\n      }\n    },\n    {\n      \"column\": \"Flipped\",\n      \"properties\": {\n        \"dtype\": \"number\",\n        \"std\": 0,\n        \"min\": 0,\n        \"max\": 0,\n        \"num_unique_values\": 1,\n        \"samples\": [\n          0\n        ],\n        \"semantic_type\": \"\",\n        \"description\": \"\"\n      }\n    },\n    {\n      \"column\": \"OU_LOS_hrs\",\n      \"properties\": {\n        \"dtype\": \"number\",\n        \"std\": 24.76778822045548,\n        \"min\": 20.8,\n        \"max\": 67.1,\n        \"num_unique_values\": 3,\n        \"samples\": [\n          28.7\n        ],\n        \"semantic_type\": \"\",\n        \"description\": \"\"\n      }\n    },\n    {\n      \"column\": \"DRG01\",\n      \"properties\": {\n        \"dtype\": \"number\",\n        \"std\": 0,\n        \"min\": 789,\n        \"max\": 789,\n        \"num_unique_values\": 1,\n        \"samples\": [\n          789\n        ],\n        \"semantic_type\": \"\",\n        \"description\": \"\"\n      }\n    },\n    {\n      \"column\": \"BloodPressureUpper\",\n      \"properties\": {\n        \"dtype\": \"number\",\n        \"std\": 39,\n        \"min\": 92,\n        \"max\": 169,\n        \"num_unique_values\": 3,\n        \"samples\": [\n          145\n        ],\n        \"semantic_type\": \"\",\n        \"description\": \"\"\n      }\n    },\n    {\n      \"column\": \"BloodPressureLower\",\n      \"properties\": {\n        \"dtype\": \"number\",\n        \"std\": 14,\n        \"min\": 51,\n        \"max\": 78,\n        \"num_unique_values\": 3,\n        \"samples\": [\n          78\n        ],\n        \"semantic_type\": \"\",\n        \"description\": \"\"\n      }\n    },\n    {\n      \"column\": \"BloodPressureDiff\",\n      \"properties\": {\n        \"dtype\": \"number\",\n        \"std\": 12,\n        \"min\": 54,\n        \"max\": 78,\n        \"num_unique_values\": 3,\n        \"samples\": [\n          62\n        ],\n        \"semantic_type\": \"\",\n        \"description\": \"\"\n      }\n    },\n    {\n      \"column\": \"Pulse\",\n      \"properties\": {\n        \"dtype\": \"number\",\n        \"std\": 8,\n        \"min\": 55,\n        \"max\": 70,\n        \"num_unique_values\": 3,\n        \"samples\": [\n          69\n        ],\n        \"semantic_type\": \"\",\n        \"description\": \"\"\n      }\n    },\n    {\n      \"column\": \"PulseOximetry\",\n      \"properties\": {\n        \"dtype\": \"number\",\n        \"std\": 2,\n        \"min\": 95,\n        \"max\": 100,\n        \"num_unique_values\": 3,\n        \"samples\": [\n          98\n        ],\n        \"semantic_type\": \"\",\n        \"description\": \"\"\n      }\n    },\n    {\n      \"column\": \"Respirations\",\n      \"properties\": {\n        \"dtype\": \"number\",\n        \"std\": 5,\n        \"min\": 10,\n        \"max\": 20,\n        \"num_unique_values\": 3,\n        \"samples\": [\n          20\n        ],\n        \"semantic_type\": \"\",\n        \"description\": \"\"\n      }\n    },\n    {\n      \"column\": \"Temperature\",\n      \"properties\": {\n        \"dtype\": \"number\",\n        \"std\": 1.1718930554164664,\n        \"min\": 97.7,\n        \"max\": 99.9,\n        \"num_unique_values\": 3,\n        \"samples\": [\n          98.1\n        ],\n        \"semantic_type\": \"\",\n        \"description\": \"\"\n      }\n    }\n  ]\n}",
              "type": "dataframe"
            },
            "text/html": [
              "\n",
              "  <div id=\"df-13aeb5e9-1e2a-47d9-b617-127b56ece3c6\" class=\"colab-df-container\">\n",
              "    <div>\n",
              "<style scoped>\n",
              "    .dataframe tbody tr th:only-of-type {\n",
              "        vertical-align: middle;\n",
              "    }\n",
              "\n",
              "    .dataframe tbody tr th {\n",
              "        vertical-align: top;\n",
              "    }\n",
              "\n",
              "    .dataframe thead th {\n",
              "        text-align: right;\n",
              "    }\n",
              "</style>\n",
              "<table border=\"1\" class=\"dataframe\">\n",
              "  <thead>\n",
              "    <tr style=\"text-align: right;\">\n",
              "      <th></th>\n",
              "      <th>ObservationRecordKey</th>\n",
              "      <th>Age</th>\n",
              "      <th>Gender</th>\n",
              "      <th>PrimaryInsuranceCategory</th>\n",
              "      <th>InitPatientClassAndFirstPostOUClass</th>\n",
              "      <th>Flipped</th>\n",
              "      <th>OU_LOS_hrs</th>\n",
              "      <th>DRG01</th>\n",
              "      <th>BloodPressureUpper</th>\n",
              "      <th>BloodPressureLower</th>\n",
              "      <th>BloodPressureDiff</th>\n",
              "      <th>Pulse</th>\n",
              "      <th>PulseOximetry</th>\n",
              "      <th>Respirations</th>\n",
              "      <th>Temperature</th>\n",
              "    </tr>\n",
              "  </thead>\n",
              "  <tbody>\n",
              "    <tr>\n",
              "      <th>1096</th>\n",
              "      <td>141193z1</td>\n",
              "      <td>80</td>\n",
              "      <td>Female</td>\n",
              "      <td>MEDICARE OTHER</td>\n",
              "      <td>OBSERVATION-&gt;OBSERVATION</td>\n",
              "      <td>0</td>\n",
              "      <td>28.7</td>\n",
              "      <td>789</td>\n",
              "      <td>145</td>\n",
              "      <td>78</td>\n",
              "      <td>62</td>\n",
              "      <td>69</td>\n",
              "      <td>98</td>\n",
              "      <td>20</td>\n",
              "      <td>98.1</td>\n",
              "    </tr>\n",
              "    <tr>\n",
              "      <th>1097</th>\n",
              "      <td>928081x4</td>\n",
              "      <td>37</td>\n",
              "      <td>Female</td>\n",
              "      <td>MEDICAID OTHER</td>\n",
              "      <td>OBSERVATION-&gt;OBSERVATION</td>\n",
              "      <td>0</td>\n",
              "      <td>67.1</td>\n",
              "      <td>789</td>\n",
              "      <td>169</td>\n",
              "      <td>75</td>\n",
              "      <td>54</td>\n",
              "      <td>70</td>\n",
              "      <td>95</td>\n",
              "      <td>10</td>\n",
              "      <td>99.9</td>\n",
              "    </tr>\n",
              "    <tr>\n",
              "      <th>1098</th>\n",
              "      <td>774162z1</td>\n",
              "      <td>50</td>\n",
              "      <td>Female</td>\n",
              "      <td>MEDICAID STATE</td>\n",
              "      <td>OBSERVATION-&gt;OBSERVATION</td>\n",
              "      <td>0</td>\n",
              "      <td>20.8</td>\n",
              "      <td>789</td>\n",
              "      <td>92</td>\n",
              "      <td>51</td>\n",
              "      <td>78</td>\n",
              "      <td>55</td>\n",
              "      <td>100</td>\n",
              "      <td>13</td>\n",
              "      <td>97.7</td>\n",
              "    </tr>\n",
              "  </tbody>\n",
              "</table>\n",
              "</div>\n",
              "    <div class=\"colab-df-buttons\">\n",
              "\n",
              "  <div class=\"colab-df-container\">\n",
              "    <button class=\"colab-df-convert\" onclick=\"convertToInteractive('df-13aeb5e9-1e2a-47d9-b617-127b56ece3c6')\"\n",
              "            title=\"Convert this dataframe to an interactive table.\"\n",
              "            style=\"display:none;\">\n",
              "\n",
              "  <svg xmlns=\"http://www.w3.org/2000/svg\" height=\"24px\" viewBox=\"0 -960 960 960\">\n",
              "    <path d=\"M120-120v-720h720v720H120Zm60-500h600v-160H180v160Zm220 220h160v-160H400v160Zm0 220h160v-160H400v160ZM180-400h160v-160H180v160Zm440 0h160v-160H620v160ZM180-180h160v-160H180v160Zm440 0h160v-160H620v160Z\"/>\n",
              "  </svg>\n",
              "    </button>\n",
              "\n",
              "  <style>\n",
              "    .colab-df-container {\n",
              "      display:flex;\n",
              "      gap: 12px;\n",
              "    }\n",
              "\n",
              "    .colab-df-convert {\n",
              "      background-color: #E8F0FE;\n",
              "      border: none;\n",
              "      border-radius: 50%;\n",
              "      cursor: pointer;\n",
              "      display: none;\n",
              "      fill: #1967D2;\n",
              "      height: 32px;\n",
              "      padding: 0 0 0 0;\n",
              "      width: 32px;\n",
              "    }\n",
              "\n",
              "    .colab-df-convert:hover {\n",
              "      background-color: #E2EBFA;\n",
              "      box-shadow: 0px 1px 2px rgba(60, 64, 67, 0.3), 0px 1px 3px 1px rgba(60, 64, 67, 0.15);\n",
              "      fill: #174EA6;\n",
              "    }\n",
              "\n",
              "    .colab-df-buttons div {\n",
              "      margin-bottom: 4px;\n",
              "    }\n",
              "\n",
              "    [theme=dark] .colab-df-convert {\n",
              "      background-color: #3B4455;\n",
              "      fill: #D2E3FC;\n",
              "    }\n",
              "\n",
              "    [theme=dark] .colab-df-convert:hover {\n",
              "      background-color: #434B5C;\n",
              "      box-shadow: 0px 1px 3px 1px rgba(0, 0, 0, 0.15);\n",
              "      filter: drop-shadow(0px 1px 2px rgba(0, 0, 0, 0.3));\n",
              "      fill: #FFFFFF;\n",
              "    }\n",
              "  </style>\n",
              "\n",
              "    <script>\n",
              "      const buttonEl =\n",
              "        document.querySelector('#df-13aeb5e9-1e2a-47d9-b617-127b56ece3c6 button.colab-df-convert');\n",
              "      buttonEl.style.display =\n",
              "        google.colab.kernel.accessAllowed ? 'block' : 'none';\n",
              "\n",
              "      async function convertToInteractive(key) {\n",
              "        const element = document.querySelector('#df-13aeb5e9-1e2a-47d9-b617-127b56ece3c6');\n",
              "        const dataTable =\n",
              "          await google.colab.kernel.invokeFunction('convertToInteractive',\n",
              "                                                    [key], {});\n",
              "        if (!dataTable) return;\n",
              "\n",
              "        const docLinkHtml = 'Like what you see? Visit the ' +\n",
              "          '<a target=\"_blank\" href=https://colab.research.google.com/notebooks/data_table.ipynb>data table notebook</a>'\n",
              "          + ' to learn more about interactive tables.';\n",
              "        element.innerHTML = '';\n",
              "        dataTable['output_type'] = 'display_data';\n",
              "        await google.colab.output.renderOutput(dataTable, element);\n",
              "        const docLink = document.createElement('div');\n",
              "        docLink.innerHTML = docLinkHtml;\n",
              "        element.appendChild(docLink);\n",
              "      }\n",
              "    </script>\n",
              "  </div>\n",
              "\n",
              "\n",
              "<div id=\"df-0c8127aa-3e63-43cc-894e-cb69ea391c91\">\n",
              "  <button class=\"colab-df-quickchart\" onclick=\"quickchart('df-0c8127aa-3e63-43cc-894e-cb69ea391c91')\"\n",
              "            title=\"Suggest charts\"\n",
              "            style=\"display:none;\">\n",
              "\n",
              "<svg xmlns=\"http://www.w3.org/2000/svg\" height=\"24px\"viewBox=\"0 0 24 24\"\n",
              "     width=\"24px\">\n",
              "    <g>\n",
              "        <path d=\"M19 3H5c-1.1 0-2 .9-2 2v14c0 1.1.9 2 2 2h14c1.1 0 2-.9 2-2V5c0-1.1-.9-2-2-2zM9 17H7v-7h2v7zm4 0h-2V7h2v10zm4 0h-2v-4h2v4z\"/>\n",
              "    </g>\n",
              "</svg>\n",
              "  </button>\n",
              "\n",
              "<style>\n",
              "  .colab-df-quickchart {\n",
              "      --bg-color: #E8F0FE;\n",
              "      --fill-color: #1967D2;\n",
              "      --hover-bg-color: #E2EBFA;\n",
              "      --hover-fill-color: #174EA6;\n",
              "      --disabled-fill-color: #AAA;\n",
              "      --disabled-bg-color: #DDD;\n",
              "  }\n",
              "\n",
              "  [theme=dark] .colab-df-quickchart {\n",
              "      --bg-color: #3B4455;\n",
              "      --fill-color: #D2E3FC;\n",
              "      --hover-bg-color: #434B5C;\n",
              "      --hover-fill-color: #FFFFFF;\n",
              "      --disabled-bg-color: #3B4455;\n",
              "      --disabled-fill-color: #666;\n",
              "  }\n",
              "\n",
              "  .colab-df-quickchart {\n",
              "    background-color: var(--bg-color);\n",
              "    border: none;\n",
              "    border-radius: 50%;\n",
              "    cursor: pointer;\n",
              "    display: none;\n",
              "    fill: var(--fill-color);\n",
              "    height: 32px;\n",
              "    padding: 0;\n",
              "    width: 32px;\n",
              "  }\n",
              "\n",
              "  .colab-df-quickchart:hover {\n",
              "    background-color: var(--hover-bg-color);\n",
              "    box-shadow: 0 1px 2px rgba(60, 64, 67, 0.3), 0 1px 3px 1px rgba(60, 64, 67, 0.15);\n",
              "    fill: var(--button-hover-fill-color);\n",
              "  }\n",
              "\n",
              "  .colab-df-quickchart-complete:disabled,\n",
              "  .colab-df-quickchart-complete:disabled:hover {\n",
              "    background-color: var(--disabled-bg-color);\n",
              "    fill: var(--disabled-fill-color);\n",
              "    box-shadow: none;\n",
              "  }\n",
              "\n",
              "  .colab-df-spinner {\n",
              "    border: 2px solid var(--fill-color);\n",
              "    border-color: transparent;\n",
              "    border-bottom-color: var(--fill-color);\n",
              "    animation:\n",
              "      spin 1s steps(1) infinite;\n",
              "  }\n",
              "\n",
              "  @keyframes spin {\n",
              "    0% {\n",
              "      border-color: transparent;\n",
              "      border-bottom-color: var(--fill-color);\n",
              "      border-left-color: var(--fill-color);\n",
              "    }\n",
              "    20% {\n",
              "      border-color: transparent;\n",
              "      border-left-color: var(--fill-color);\n",
              "      border-top-color: var(--fill-color);\n",
              "    }\n",
              "    30% {\n",
              "      border-color: transparent;\n",
              "      border-left-color: var(--fill-color);\n",
              "      border-top-color: var(--fill-color);\n",
              "      border-right-color: var(--fill-color);\n",
              "    }\n",
              "    40% {\n",
              "      border-color: transparent;\n",
              "      border-right-color: var(--fill-color);\n",
              "      border-top-color: var(--fill-color);\n",
              "    }\n",
              "    60% {\n",
              "      border-color: transparent;\n",
              "      border-right-color: var(--fill-color);\n",
              "    }\n",
              "    80% {\n",
              "      border-color: transparent;\n",
              "      border-right-color: var(--fill-color);\n",
              "      border-bottom-color: var(--fill-color);\n",
              "    }\n",
              "    90% {\n",
              "      border-color: transparent;\n",
              "      border-bottom-color: var(--fill-color);\n",
              "    }\n",
              "  }\n",
              "</style>\n",
              "\n",
              "  <script>\n",
              "    async function quickchart(key) {\n",
              "      const quickchartButtonEl =\n",
              "        document.querySelector('#' + key + ' button');\n",
              "      quickchartButtonEl.disabled = true;  // To prevent multiple clicks.\n",
              "      quickchartButtonEl.classList.add('colab-df-spinner');\n",
              "      try {\n",
              "        const charts = await google.colab.kernel.invokeFunction(\n",
              "            'suggestCharts', [key], {});\n",
              "      } catch (error) {\n",
              "        console.error('Error during call to suggestCharts:', error);\n",
              "      }\n",
              "      quickchartButtonEl.classList.remove('colab-df-spinner');\n",
              "      quickchartButtonEl.classList.add('colab-df-quickchart-complete');\n",
              "    }\n",
              "    (() => {\n",
              "      let quickchartButtonEl =\n",
              "        document.querySelector('#df-0c8127aa-3e63-43cc-894e-cb69ea391c91 button');\n",
              "      quickchartButtonEl.style.display =\n",
              "        google.colab.kernel.accessAllowed ? 'block' : 'none';\n",
              "    })();\n",
              "  </script>\n",
              "</div>\n",
              "\n",
              "    </div>\n",
              "  </div>\n"
            ],
            "text/plain": [
              "     ObservationRecordKey  Age  Gender PrimaryInsuranceCategory  \\\n",
              "1096             141193z1   80  Female           MEDICARE OTHER   \n",
              "1097             928081x4   37  Female           MEDICAID OTHER   \n",
              "1098             774162z1   50  Female           MEDICAID STATE   \n",
              "\n",
              "     InitPatientClassAndFirstPostOUClass  Flipped  OU_LOS_hrs  DRG01  \\\n",
              "1096            OBSERVATION->OBSERVATION        0        28.7    789   \n",
              "1097            OBSERVATION->OBSERVATION        0        67.1    789   \n",
              "1098            OBSERVATION->OBSERVATION        0        20.8    789   \n",
              "\n",
              "      BloodPressureUpper  BloodPressureLower  BloodPressureDiff  Pulse  \\\n",
              "1096                 145                  78                 62     69   \n",
              "1097                 169                  75                 54     70   \n",
              "1098                  92                  51                 78     55   \n",
              "\n",
              "      PulseOximetry  Respirations  Temperature  \n",
              "1096             98            20         98.1  \n",
              "1097             95            10         99.9  \n",
              "1098            100            13         97.7  "
            ]
          },
          "metadata": {},
          "output_type": "display_data"
        },
        {
          "name": "stdout",
          "output_type": "stream",
          "text": [
            "\n",
            "2 random rows:\n"
          ]
        },
        {
          "data": {
            "application/vnd.google.colaboratory.intrinsic+json": {
              "summary": "{\n  \"name\": \"display(df\",\n  \"rows\": 2,\n  \"fields\": [\n    {\n      \"column\": \"ObservationRecordKey\",\n      \"properties\": {\n        \"dtype\": \"string\",\n        \"num_unique_values\": 2,\n        \"samples\": [\n          \"195202z1\",\n          \"873663z1\"\n        ],\n        \"semantic_type\": \"\",\n        \"description\": \"\"\n      }\n    },\n    {\n      \"column\": \"Age\",\n      \"properties\": {\n        \"dtype\": \"number\",\n        \"std\": 22,\n        \"min\": 46,\n        \"max\": 78,\n        \"num_unique_values\": 2,\n        \"samples\": [\n          78,\n          46\n        ],\n        \"semantic_type\": \"\",\n        \"description\": \"\"\n      }\n    },\n    {\n      \"column\": \"Gender\",\n      \"properties\": {\n        \"dtype\": \"string\",\n        \"num_unique_values\": 2,\n        \"samples\": [\n          \"Male\",\n          \"Female\"\n        ],\n        \"semantic_type\": \"\",\n        \"description\": \"\"\n      }\n    },\n    {\n      \"column\": \"PrimaryInsuranceCategory\",\n      \"properties\": {\n        \"dtype\": \"string\",\n        \"num_unique_values\": 2,\n        \"samples\": [\n          \"MEDICARE OTHER\",\n          \"MEDICAID STATE\"\n        ],\n        \"semantic_type\": \"\",\n        \"description\": \"\"\n      }\n    },\n    {\n      \"column\": \"InitPatientClassAndFirstPostOUClass\",\n      \"properties\": {\n        \"dtype\": \"string\",\n        \"num_unique_values\": 1,\n        \"samples\": [\n          \"OBSERVATION->INPATIENT\"\n        ],\n        \"semantic_type\": \"\",\n        \"description\": \"\"\n      }\n    },\n    {\n      \"column\": \"Flipped\",\n      \"properties\": {\n        \"dtype\": \"number\",\n        \"std\": 0,\n        \"min\": 1,\n        \"max\": 1,\n        \"num_unique_values\": 1,\n        \"samples\": [\n          1\n        ],\n        \"semantic_type\": \"\",\n        \"description\": \"\"\n      }\n    },\n    {\n      \"column\": \"OU_LOS_hrs\",\n      \"properties\": {\n        \"dtype\": \"number\",\n        \"std\": 29.557063453597685,\n        \"min\": 66.4,\n        \"max\": 108.2,\n        \"num_unique_values\": 2,\n        \"samples\": [\n          108.2\n        ],\n        \"semantic_type\": \"\",\n        \"description\": \"\"\n      }\n    },\n    {\n      \"column\": \"DRG01\",\n      \"properties\": {\n        \"dtype\": \"number\",\n        \"std\": 6,\n        \"min\": 780,\n        \"max\": 789,\n        \"num_unique_values\": 2,\n        \"samples\": [\n          780\n        ],\n        \"semantic_type\": \"\",\n        \"description\": \"\"\n      }\n    },\n    {\n      \"column\": \"BloodPressureUpper\",\n      \"properties\": {\n        \"dtype\": \"number\",\n        \"std\": 26,\n        \"min\": 120,\n        \"max\": 157,\n        \"num_unique_values\": 2,\n        \"samples\": [\n          157\n        ],\n        \"semantic_type\": \"\",\n        \"description\": \"\"\n      }\n    },\n    {\n      \"column\": \"BloodPressureLower\",\n      \"properties\": {\n        \"dtype\": \"number\",\n        \"std\": 3,\n        \"min\": 66,\n        \"max\": 71,\n        \"num_unique_values\": 2,\n        \"samples\": [\n          71\n        ],\n        \"semantic_type\": \"\",\n        \"description\": \"\"\n      }\n    },\n    {\n      \"column\": \"BloodPressureDiff\",\n      \"properties\": {\n        \"dtype\": \"number\",\n        \"std\": 33,\n        \"min\": 45,\n        \"max\": 93,\n        \"num_unique_values\": 2,\n        \"samples\": [\n          45\n        ],\n        \"semantic_type\": \"\",\n        \"description\": \"\"\n      }\n    },\n    {\n      \"column\": \"Pulse\",\n      \"properties\": {\n        \"dtype\": \"number\",\n        \"std\": 0,\n        \"min\": 79,\n        \"max\": 79,\n        \"num_unique_values\": 1,\n        \"samples\": [\n          79\n        ],\n        \"semantic_type\": \"\",\n        \"description\": \"\"\n      }\n    },\n    {\n      \"column\": \"PulseOximetry\",\n      \"properties\": {\n        \"dtype\": \"number\",\n        \"std\": 2,\n        \"min\": 94,\n        \"max\": 98,\n        \"num_unique_values\": 2,\n        \"samples\": [\n          94\n        ],\n        \"semantic_type\": \"\",\n        \"description\": \"\"\n      }\n    },\n    {\n      \"column\": \"Respirations\",\n      \"properties\": {\n        \"dtype\": \"number\",\n        \"std\": 0,\n        \"min\": 16,\n        \"max\": 17,\n        \"num_unique_values\": 2,\n        \"samples\": [\n          17\n        ],\n        \"semantic_type\": \"\",\n        \"description\": \"\"\n      }\n    },\n    {\n      \"column\": \"Temperature\",\n      \"properties\": {\n        \"dtype\": \"number\",\n        \"std\": 1.131370849898482,\n        \"min\": 96.6,\n        \"max\": 98.2,\n        \"num_unique_values\": 2,\n        \"samples\": [\n          98.2\n        ],\n        \"semantic_type\": \"\",\n        \"description\": \"\"\n      }\n    }\n  ]\n}",
              "type": "dataframe"
            },
            "text/html": [
              "\n",
              "  <div id=\"df-d26a6796-daea-4642-b812-3cc6e6e02cc8\" class=\"colab-df-container\">\n",
              "    <div>\n",
              "<style scoped>\n",
              "    .dataframe tbody tr th:only-of-type {\n",
              "        vertical-align: middle;\n",
              "    }\n",
              "\n",
              "    .dataframe tbody tr th {\n",
              "        vertical-align: top;\n",
              "    }\n",
              "\n",
              "    .dataframe thead th {\n",
              "        text-align: right;\n",
              "    }\n",
              "</style>\n",
              "<table border=\"1\" class=\"dataframe\">\n",
              "  <thead>\n",
              "    <tr style=\"text-align: right;\">\n",
              "      <th></th>\n",
              "      <th>ObservationRecordKey</th>\n",
              "      <th>Age</th>\n",
              "      <th>Gender</th>\n",
              "      <th>PrimaryInsuranceCategory</th>\n",
              "      <th>InitPatientClassAndFirstPostOUClass</th>\n",
              "      <th>Flipped</th>\n",
              "      <th>OU_LOS_hrs</th>\n",
              "      <th>DRG01</th>\n",
              "      <th>BloodPressureUpper</th>\n",
              "      <th>BloodPressureLower</th>\n",
              "      <th>BloodPressureDiff</th>\n",
              "      <th>Pulse</th>\n",
              "      <th>PulseOximetry</th>\n",
              "      <th>Respirations</th>\n",
              "      <th>Temperature</th>\n",
              "    </tr>\n",
              "  </thead>\n",
              "  <tbody>\n",
              "    <tr>\n",
              "      <th>47</th>\n",
              "      <td>873663z1</td>\n",
              "      <td>46</td>\n",
              "      <td>Female</td>\n",
              "      <td>MEDICAID STATE</td>\n",
              "      <td>OBSERVATION-&gt;INPATIENT</td>\n",
              "      <td>1</td>\n",
              "      <td>66.4</td>\n",
              "      <td>789</td>\n",
              "      <td>120</td>\n",
              "      <td>66</td>\n",
              "      <td>93</td>\n",
              "      <td>79</td>\n",
              "      <td>98</td>\n",
              "      <td>16</td>\n",
              "      <td>96.6</td>\n",
              "    </tr>\n",
              "    <tr>\n",
              "      <th>1067</th>\n",
              "      <td>195202z1</td>\n",
              "      <td>78</td>\n",
              "      <td>Male</td>\n",
              "      <td>MEDICARE OTHER</td>\n",
              "      <td>OBSERVATION-&gt;INPATIENT</td>\n",
              "      <td>1</td>\n",
              "      <td>108.2</td>\n",
              "      <td>780</td>\n",
              "      <td>157</td>\n",
              "      <td>71</td>\n",
              "      <td>45</td>\n",
              "      <td>79</td>\n",
              "      <td>94</td>\n",
              "      <td>17</td>\n",
              "      <td>98.2</td>\n",
              "    </tr>\n",
              "  </tbody>\n",
              "</table>\n",
              "</div>\n",
              "    <div class=\"colab-df-buttons\">\n",
              "\n",
              "  <div class=\"colab-df-container\">\n",
              "    <button class=\"colab-df-convert\" onclick=\"convertToInteractive('df-d26a6796-daea-4642-b812-3cc6e6e02cc8')\"\n",
              "            title=\"Convert this dataframe to an interactive table.\"\n",
              "            style=\"display:none;\">\n",
              "\n",
              "  <svg xmlns=\"http://www.w3.org/2000/svg\" height=\"24px\" viewBox=\"0 -960 960 960\">\n",
              "    <path d=\"M120-120v-720h720v720H120Zm60-500h600v-160H180v160Zm220 220h160v-160H400v160Zm0 220h160v-160H400v160ZM180-400h160v-160H180v160Zm440 0h160v-160H620v160ZM180-180h160v-160H180v160Zm440 0h160v-160H620v160Z\"/>\n",
              "  </svg>\n",
              "    </button>\n",
              "\n",
              "  <style>\n",
              "    .colab-df-container {\n",
              "      display:flex;\n",
              "      gap: 12px;\n",
              "    }\n",
              "\n",
              "    .colab-df-convert {\n",
              "      background-color: #E8F0FE;\n",
              "      border: none;\n",
              "      border-radius: 50%;\n",
              "      cursor: pointer;\n",
              "      display: none;\n",
              "      fill: #1967D2;\n",
              "      height: 32px;\n",
              "      padding: 0 0 0 0;\n",
              "      width: 32px;\n",
              "    }\n",
              "\n",
              "    .colab-df-convert:hover {\n",
              "      background-color: #E2EBFA;\n",
              "      box-shadow: 0px 1px 2px rgba(60, 64, 67, 0.3), 0px 1px 3px 1px rgba(60, 64, 67, 0.15);\n",
              "      fill: #174EA6;\n",
              "    }\n",
              "\n",
              "    .colab-df-buttons div {\n",
              "      margin-bottom: 4px;\n",
              "    }\n",
              "\n",
              "    [theme=dark] .colab-df-convert {\n",
              "      background-color: #3B4455;\n",
              "      fill: #D2E3FC;\n",
              "    }\n",
              "\n",
              "    [theme=dark] .colab-df-convert:hover {\n",
              "      background-color: #434B5C;\n",
              "      box-shadow: 0px 1px 3px 1px rgba(0, 0, 0, 0.15);\n",
              "      filter: drop-shadow(0px 1px 2px rgba(0, 0, 0, 0.3));\n",
              "      fill: #FFFFFF;\n",
              "    }\n",
              "  </style>\n",
              "\n",
              "    <script>\n",
              "      const buttonEl =\n",
              "        document.querySelector('#df-d26a6796-daea-4642-b812-3cc6e6e02cc8 button.colab-df-convert');\n",
              "      buttonEl.style.display =\n",
              "        google.colab.kernel.accessAllowed ? 'block' : 'none';\n",
              "\n",
              "      async function convertToInteractive(key) {\n",
              "        const element = document.querySelector('#df-d26a6796-daea-4642-b812-3cc6e6e02cc8');\n",
              "        const dataTable =\n",
              "          await google.colab.kernel.invokeFunction('convertToInteractive',\n",
              "                                                    [key], {});\n",
              "        if (!dataTable) return;\n",
              "\n",
              "        const docLinkHtml = 'Like what you see? Visit the ' +\n",
              "          '<a target=\"_blank\" href=https://colab.research.google.com/notebooks/data_table.ipynb>data table notebook</a>'\n",
              "          + ' to learn more about interactive tables.';\n",
              "        element.innerHTML = '';\n",
              "        dataTable['output_type'] = 'display_data';\n",
              "        await google.colab.output.renderOutput(dataTable, element);\n",
              "        const docLink = document.createElement('div');\n",
              "        docLink.innerHTML = docLinkHtml;\n",
              "        element.appendChild(docLink);\n",
              "      }\n",
              "    </script>\n",
              "  </div>\n",
              "\n",
              "\n",
              "<div id=\"df-d0580780-2f62-46b8-8a73-7266c57728f0\">\n",
              "  <button class=\"colab-df-quickchart\" onclick=\"quickchart('df-d0580780-2f62-46b8-8a73-7266c57728f0')\"\n",
              "            title=\"Suggest charts\"\n",
              "            style=\"display:none;\">\n",
              "\n",
              "<svg xmlns=\"http://www.w3.org/2000/svg\" height=\"24px\"viewBox=\"0 0 24 24\"\n",
              "     width=\"24px\">\n",
              "    <g>\n",
              "        <path d=\"M19 3H5c-1.1 0-2 .9-2 2v14c0 1.1.9 2 2 2h14c1.1 0 2-.9 2-2V5c0-1.1-.9-2-2-2zM9 17H7v-7h2v7zm4 0h-2V7h2v10zm4 0h-2v-4h2v4z\"/>\n",
              "    </g>\n",
              "</svg>\n",
              "  </button>\n",
              "\n",
              "<style>\n",
              "  .colab-df-quickchart {\n",
              "      --bg-color: #E8F0FE;\n",
              "      --fill-color: #1967D2;\n",
              "      --hover-bg-color: #E2EBFA;\n",
              "      --hover-fill-color: #174EA6;\n",
              "      --disabled-fill-color: #AAA;\n",
              "      --disabled-bg-color: #DDD;\n",
              "  }\n",
              "\n",
              "  [theme=dark] .colab-df-quickchart {\n",
              "      --bg-color: #3B4455;\n",
              "      --fill-color: #D2E3FC;\n",
              "      --hover-bg-color: #434B5C;\n",
              "      --hover-fill-color: #FFFFFF;\n",
              "      --disabled-bg-color: #3B4455;\n",
              "      --disabled-fill-color: #666;\n",
              "  }\n",
              "\n",
              "  .colab-df-quickchart {\n",
              "    background-color: var(--bg-color);\n",
              "    border: none;\n",
              "    border-radius: 50%;\n",
              "    cursor: pointer;\n",
              "    display: none;\n",
              "    fill: var(--fill-color);\n",
              "    height: 32px;\n",
              "    padding: 0;\n",
              "    width: 32px;\n",
              "  }\n",
              "\n",
              "  .colab-df-quickchart:hover {\n",
              "    background-color: var(--hover-bg-color);\n",
              "    box-shadow: 0 1px 2px rgba(60, 64, 67, 0.3), 0 1px 3px 1px rgba(60, 64, 67, 0.15);\n",
              "    fill: var(--button-hover-fill-color);\n",
              "  }\n",
              "\n",
              "  .colab-df-quickchart-complete:disabled,\n",
              "  .colab-df-quickchart-complete:disabled:hover {\n",
              "    background-color: var(--disabled-bg-color);\n",
              "    fill: var(--disabled-fill-color);\n",
              "    box-shadow: none;\n",
              "  }\n",
              "\n",
              "  .colab-df-spinner {\n",
              "    border: 2px solid var(--fill-color);\n",
              "    border-color: transparent;\n",
              "    border-bottom-color: var(--fill-color);\n",
              "    animation:\n",
              "      spin 1s steps(1) infinite;\n",
              "  }\n",
              "\n",
              "  @keyframes spin {\n",
              "    0% {\n",
              "      border-color: transparent;\n",
              "      border-bottom-color: var(--fill-color);\n",
              "      border-left-color: var(--fill-color);\n",
              "    }\n",
              "    20% {\n",
              "      border-color: transparent;\n",
              "      border-left-color: var(--fill-color);\n",
              "      border-top-color: var(--fill-color);\n",
              "    }\n",
              "    30% {\n",
              "      border-color: transparent;\n",
              "      border-left-color: var(--fill-color);\n",
              "      border-top-color: var(--fill-color);\n",
              "      border-right-color: var(--fill-color);\n",
              "    }\n",
              "    40% {\n",
              "      border-color: transparent;\n",
              "      border-right-color: var(--fill-color);\n",
              "      border-top-color: var(--fill-color);\n",
              "    }\n",
              "    60% {\n",
              "      border-color: transparent;\n",
              "      border-right-color: var(--fill-color);\n",
              "    }\n",
              "    80% {\n",
              "      border-color: transparent;\n",
              "      border-right-color: var(--fill-color);\n",
              "      border-bottom-color: var(--fill-color);\n",
              "    }\n",
              "    90% {\n",
              "      border-color: transparent;\n",
              "      border-bottom-color: var(--fill-color);\n",
              "    }\n",
              "  }\n",
              "</style>\n",
              "\n",
              "  <script>\n",
              "    async function quickchart(key) {\n",
              "      const quickchartButtonEl =\n",
              "        document.querySelector('#' + key + ' button');\n",
              "      quickchartButtonEl.disabled = true;  // To prevent multiple clicks.\n",
              "      quickchartButtonEl.classList.add('colab-df-spinner');\n",
              "      try {\n",
              "        const charts = await google.colab.kernel.invokeFunction(\n",
              "            'suggestCharts', [key], {});\n",
              "      } catch (error) {\n",
              "        console.error('Error during call to suggestCharts:', error);\n",
              "      }\n",
              "      quickchartButtonEl.classList.remove('colab-df-spinner');\n",
              "      quickchartButtonEl.classList.add('colab-df-quickchart-complete');\n",
              "    }\n",
              "    (() => {\n",
              "      let quickchartButtonEl =\n",
              "        document.querySelector('#df-d0580780-2f62-46b8-8a73-7266c57728f0 button');\n",
              "      quickchartButtonEl.style.display =\n",
              "        google.colab.kernel.accessAllowed ? 'block' : 'none';\n",
              "    })();\n",
              "  </script>\n",
              "</div>\n",
              "\n",
              "    </div>\n",
              "  </div>\n"
            ],
            "text/plain": [
              "     ObservationRecordKey  Age  Gender PrimaryInsuranceCategory  \\\n",
              "47               873663z1   46  Female           MEDICAID STATE   \n",
              "1067             195202z1   78    Male           MEDICARE OTHER   \n",
              "\n",
              "     InitPatientClassAndFirstPostOUClass  Flipped  OU_LOS_hrs  DRG01  \\\n",
              "47                OBSERVATION->INPATIENT        1        66.4    789   \n",
              "1067              OBSERVATION->INPATIENT        1       108.2    780   \n",
              "\n",
              "      BloodPressureUpper  BloodPressureLower  BloodPressureDiff  Pulse  \\\n",
              "47                   120                  66                 93     79   \n",
              "1067                 157                  71                 45     79   \n",
              "\n",
              "      PulseOximetry  Respirations  Temperature  \n",
              "47               98            16         96.6  \n",
              "1067             94            17         98.2  "
            ]
          },
          "metadata": {},
          "output_type": "display_data"
        }
      ],
      "source": [
        "# Check that the file was read in correctly\n",
        "# View the first 5 rows\n",
        "print(\"First 5 rows:\")\n",
        "display(df.head())\n",
        "\n",
        "# View the last 3 rows\n",
        "print(\"\\nLast 3 rows:\")\n",
        "display(df.tail(3))\n",
        "\n",
        "# View 2 random rows\n",
        "print(\"\\n2 random rows:\")\n",
        "display(df.sample(2))"
      ]
    },
    {
      "cell_type": "code",
      "execution_count": null,
      "metadata": {
        "colab": {
          "base_uri": "https://localhost:8080/"
        },
        "id": "k-_xlmpRFtyG",
        "outputId": "a498b23f-7734-4aac-8dee-087470a97b06"
      },
      "outputs": [
        {
          "name": "stdout",
          "output_type": "stream",
          "text": [
            "<class 'pandas.core.frame.DataFrame'>\n",
            "RangeIndex: 1099 entries, 0 to 1098\n",
            "Data columns (total 15 columns):\n",
            " #   Column                               Non-Null Count  Dtype  \n",
            "---  ------                               --------------  -----  \n",
            " 0   ObservationRecordKey                 1099 non-null   object \n",
            " 1   Age                                  1099 non-null   int64  \n",
            " 2   Gender                               1099 non-null   object \n",
            " 3   PrimaryInsuranceCategory             1099 non-null   object \n",
            " 4   InitPatientClassAndFirstPostOUClass  1099 non-null   object \n",
            " 5   Flipped                              1099 non-null   int64  \n",
            " 6   OU_LOS_hrs                           1099 non-null   float64\n",
            " 7   DRG01                                1099 non-null   int64  \n",
            " 8   BloodPressureUpper                   1099 non-null   int64  \n",
            " 9   BloodPressureLower                   1099 non-null   int64  \n",
            " 10  BloodPressureDiff                    1099 non-null   int64  \n",
            " 11  Pulse                                1099 non-null   int64  \n",
            " 12  PulseOximetry                        1099 non-null   int64  \n",
            " 13  Respirations                         1099 non-null   int64  \n",
            " 14  Temperature                          1099 non-null   float64\n",
            "dtypes: float64(2), int64(9), object(4)\n",
            "memory usage: 128.9+ KB\n",
            "None\n"
          ]
        }
      ],
      "source": [
        "# Print information about each column in the dataframe\n",
        "print(df.info())"
      ]
    },
    {
      "cell_type": "code",
      "execution_count": null,
      "metadata": {
        "colab": {
          "base_uri": "https://localhost:8080/"
        },
        "id": "3gHGunW0GIsS",
        "outputId": "63b8b84c-a05d-4ae8-8adc-f6ab4ac2dc73"
      },
      "outputs": [
        {
          "name": "stdout",
          "output_type": "stream",
          "text": [
            "<class 'pandas.core.frame.DataFrame'>\n",
            "RangeIndex: 1099 entries, 0 to 1098\n",
            "Data columns (total 14 columns):\n",
            " #   Column                    Non-Null Count  Dtype  \n",
            "---  ------                    --------------  -----  \n",
            " 0   ObservationRecordKey      1099 non-null   object \n",
            " 1   Age                       1099 non-null   int64  \n",
            " 2   Gender                    1099 non-null   object \n",
            " 3   PrimaryInsuranceCategory  1099 non-null   object \n",
            " 4   Flipped                   1099 non-null   int64  \n",
            " 5   OU_LOS_hrs                1099 non-null   float64\n",
            " 6   DRG01                     1099 non-null   int64  \n",
            " 7   BloodPressureUpper        1099 non-null   int64  \n",
            " 8   BloodPressureLower        1099 non-null   int64  \n",
            " 9   BloodPressureDiff         1099 non-null   int64  \n",
            " 10  Pulse                     1099 non-null   int64  \n",
            " 11  PulseOximetry             1099 non-null   int64  \n",
            " 12  Respirations              1099 non-null   int64  \n",
            " 13  Temperature               1099 non-null   float64\n",
            "dtypes: float64(2), int64(9), object(3)\n",
            "memory usage: 120.3+ KB\n",
            "None\n"
          ]
        }
      ],
      "source": [
        "# Drop columns we do not need\n",
        "df = df.drop(['InitPatientClassAndFirstPostOUClass'], axis=1)\n",
        "print(df.info())"
      ]
    },
    {
      "cell_type": "code",
      "execution_count": null,
      "metadata": {
        "colab": {
          "base_uri": "https://localhost:8080/"
        },
        "id": "_1sqOITrGqhH",
        "outputId": "713190ba-0ee3-4b57-c479-393458694e3e"
      },
      "outputs": [
        {
          "name": "stdout",
          "output_type": "stream",
          "text": [
            "<class 'pandas.core.frame.DataFrame'>\n",
            "RangeIndex: 1099 entries, 0 to 1098\n",
            "Data columns (total 14 columns):\n",
            " #   Column                    Non-Null Count  Dtype   \n",
            "---  ------                    --------------  -----   \n",
            " 0   ObservationRecordKey      1099 non-null   object  \n",
            " 1   Age                       1099 non-null   int64   \n",
            " 2   Gender                    1099 non-null   category\n",
            " 3   PrimaryInsuranceCategory  1099 non-null   category\n",
            " 4   Flipped                   1099 non-null   int64   \n",
            " 5   OU_LOS_hrs                1099 non-null   float64 \n",
            " 6   DRG01                     1099 non-null   category\n",
            " 7   BloodPressureUpper        1099 non-null   int64   \n",
            " 8   BloodPressureLower        1099 non-null   int64   \n",
            " 9   BloodPressureDiff         1099 non-null   int64   \n",
            " 10  Pulse                     1099 non-null   int64   \n",
            " 11  PulseOximetry             1099 non-null   int64   \n",
            " 12  Respirations              1099 non-null   int64   \n",
            " 13  Temperature               1099 non-null   float64 \n",
            "dtypes: category(3), float64(2), int64(8), object(1)\n",
            "memory usage: 98.5+ KB\n",
            "None\n"
          ]
        }
      ],
      "source": [
        "# Change data types where necessary\n",
        "# Do not change data type for Flipped, it is already 0/1\n",
        "\n",
        "df['Gender'] = df['Gender'].astype('category')\n",
        "df['PrimaryInsuranceCategory'] = df['PrimaryInsuranceCategory'].astype('category')\n",
        "df['DRG01'] = df['DRG01'].astype('category')\n",
        "#df['Flipped'] = df['Flipped'].astype('category')\n",
        "\n",
        "print(df.info())"
      ]
    },
    {
      "cell_type": "markdown",
      "metadata": {
        "id": "h7SE1cxsUL_2"
      },
      "source": [
        "##Visualizations"
      ]
    },
    {
      "cell_type": "code",
      "execution_count": null,
      "metadata": {
        "colab": {
          "base_uri": "https://localhost:8080/"
        },
        "id": "6gFngkyQUyqs",
        "outputId": "e68cc98b-73fe-4969-b956-0cbc5a9736e9"
      },
      "outputs": [
        {
          "name": "stdout",
          "output_type": "stream",
          "text": [
            "0       (49, 59]\n",
            "1       (79, 89]\n",
            "2       (79, 89]\n",
            "3       (79, 89]\n",
            "4       (79, 89]\n",
            "          ...   \n",
            "1094    (79, 89]\n",
            "1095    (39, 49]\n",
            "1096    (79, 89]\n",
            "1097    (29, 39]\n",
            "1098    (49, 59]\n",
            "Name: AgeCat, Length: 1099, dtype: category\n",
            "Categories (7, interval[int64, right]): [(18, 29] < (29, 39] < (39, 49] < (49, 59] < (59, 69] <\n",
            "                                         (69, 79] < (79, 89]]\n"
          ]
        }
      ],
      "source": [
        "#Create a categorical variable AgeCat for easier visualizations\n",
        "df['AgeCat'] = pd.cut(df['Age'], list(range(19, 90, 10)), include_lowest=True, precision=0)\n",
        "print(df['AgeCat'])"
      ]
    },
    {
      "cell_type": "markdown",
      "metadata": {
        "id": "5ngmNhGDVGoG"
      },
      "source": [
        "###Average LOS and Percentage Flipped by Age Category"
      ]
    },
    {
      "cell_type": "code",
      "execution_count": null,
      "metadata": {
        "colab": {
          "base_uri": "https://localhost:8080/"
        },
        "id": "n_sdYGZ_VP-a",
        "outputId": "8335f915-8750-4c05-c668-20d7c576392f"
      },
      "outputs": [
        {
          "name": "stdout",
          "output_type": "stream",
          "text": [
            "|    | AgeCat   |   aveLOS_hrs |   percFlipped |   n |\n",
            "|---:|:---------|-------------:|--------------:|----:|\n",
            "|  0 | (18, 29] |      49.7872 |      0.538462 |  39 |\n",
            "|  1 | (29, 39] |      55.9493 |      0.449275 |  69 |\n",
            "|  2 | (39, 49] |      47.0386 |      0.39759  |  83 |\n",
            "|  3 | (49, 59] |      48.9806 |      0.395161 | 124 |\n",
            "|  4 | (59, 69] |      50.7019 |      0.425    | 160 |\n",
            "|  5 | (69, 79] |      60.7639 |      0.463918 | 194 |\n",
            "|  6 | (79, 89] |      75.8019 |      0.5      | 430 |\n"
          ]
        }
      ],
      "source": [
        "by_AgeCat = df.groupby(\"AgeCat\", observed=False)\n",
        "\n",
        "# Perform the aggregations\n",
        "ave_by_AgeCat = by_AgeCat.agg(\n",
        "    aveLOS_hrs=pd.NamedAgg(column='OU_LOS_hrs', aggfunc='mean'),\n",
        "    percFlipped=pd.NamedAgg(column='Flipped', aggfunc='mean'),\n",
        "    n=pd.NamedAgg(column='OU_LOS_hrs', aggfunc='count')\n",
        ").reset_index()\n",
        "\n",
        "print(ave_by_AgeCat.to_markdown())"
      ]
    },
    {
      "cell_type": "code",
      "execution_count": null,
      "metadata": {
        "colab": {
          "base_uri": "https://localhost:8080/",
          "height": 472
        },
        "id": "O5gTnYgQVfZU",
        "outputId": "f46d2ab9-5d16-4ef1-eaa0-25d420ee6393"
      },
      "outputs": [
        {
          "data": {
            "image/png": "[encoded data removed]",
            "text/plain": [
              "<Figure size 640x480 with 1 Axes>"
            ]
          },
          "metadata": {},
          "output_type": "display_data"
        }
      ],
      "source": [
        "#Bar chart of average LOS by age category\n",
        "ave_by_AgeCat.plot(x='AgeCat', y='aveLOS_hrs', kind='bar',\n",
        "                   title='Average LOS by Age Category',\n",
        "                   xlabel='Age Category', ylabel='Average LOS (hours)',\n",
        "                   legend=False, rot=0)\n",
        "plt.show()"
      ]
    },
    {
      "cell_type": "code",
      "execution_count": null,
      "metadata": {
        "colab": {
          "base_uri": "https://localhost:8080/",
          "height": 472
        },
        "id": "Fx1V8RuXVqAo",
        "outputId": "cb453672-aabe-40d5-8fa1-dc343bf0d863"
      },
      "outputs": [
        {
          "data": {
            "image/png": "[encoded data removed]",
            "text/plain": [
              "<Figure size 640x480 with 1 Axes>"
            ]
          },
          "metadata": {},
          "output_type": "display_data"
        }
      ],
      "source": [
        "#Bar chart of Percentage Flipped by age category\n",
        "ave_by_AgeCat.plot(x='AgeCat', y='percFlipped', kind='bar',\n",
        "                   title='Percentage of Patients Who Flipped by Age Category',\n",
        "                   xlabel='Age Category', ylabel='Percentage Flipped',\n",
        "                   legend=False, rot=0)\n",
        "plt.show()"
      ]
    },
    {
      "cell_type": "markdown",
      "metadata": {
        "id": "iqpa74J-V9dp"
      },
      "source": [
        "###Average LOS and Percentage Flipped by Gender"
      ]
    },
    {
      "cell_type": "code",
      "execution_count": null,
      "metadata": {
        "colab": {
          "base_uri": "https://localhost:8080/"
        },
        "id": "jQVm0H6JWXEG",
        "outputId": "61fda2eb-d2c5-4877-8f34-ef2d0c12edce"
      },
      "outputs": [
        {
          "name": "stdout",
          "output_type": "stream",
          "text": [
            "|    | Gender   |   aveLOS_hrs |   percFlipped |   n |\n",
            "|---:|:---------|-------------:|--------------:|----:|\n",
            "|  0 | Female   |      60.241  |      0.440184 | 652 |\n",
            "|  1 | Male     |      64.8729 |      0.49217  | 447 |\n"
          ]
        }
      ],
      "source": [
        "#Tabulate Average LOS and Percentage Flipped by Gender\n",
        "by_Gender = df.groupby(\"Gender\", observed=False)\n",
        "ave_by_Gender = by_Gender.agg(aveLOS_hrs=pd.NamedAgg(column='OU_LOS_hrs', aggfunc='mean'),\n",
        "                              percFlipped=pd.NamedAgg(column='Flipped', aggfunc='mean'),\n",
        "                              n=pd.NamedAgg(column='OU_LOS_hrs', aggfunc='count')).reset_index()\n",
        "print(ave_by_Gender.to_markdown())"
      ]
    },
    {
      "cell_type": "code",
      "execution_count": null,
      "metadata": {
        "colab": {
          "base_uri": "https://localhost:8080/",
          "height": 472
        },
        "id": "Z3cY4ZTPWH1i",
        "outputId": "5e9bef3d-26be-44f2-fd3e-ec94e0529c47"
      },
      "outputs": [
        {
          "data": {
            "image/png": "[encoded data removed]",
            "text/plain": [
              "<Figure size 640x480 with 1 Axes>"
            ]
          },
          "metadata": {},
          "output_type": "display_data"
        }
      ],
      "source": [
        "#Bar chart of average LOS by Gender\n",
        "ave_by_Gender.plot(x='Gender', y='aveLOS_hrs', kind='bar',\n",
        "                   title='Average LOS by Gender',\n",
        "                   xlabel='Gender', ylabel='Average LOS (hours)',\n",
        "                   legend=False, rot=0)\n",
        "plt.show()"
      ]
    },
    {
      "cell_type": "code",
      "execution_count": null,
      "metadata": {
        "colab": {
          "base_uri": "https://localhost:8080/",
          "height": 472
        },
        "id": "c_yt6rNhXjaQ",
        "outputId": "66083cbd-dcab-4207-d0fc-6081dc793cdb"
      },
      "outputs": [
        {
          "data": {
            "image/png": "[encoded data removed]",
            "text/plain": [
              "<Figure size 640x480 with 1 Axes>"
            ]
          },
          "metadata": {},
          "output_type": "display_data"
        }
      ],
      "source": [
        "#Bar chart of Percentage Flipped by Gender\n",
        "ave_by_Gender.plot(x='Gender', y='percFlipped', kind='bar',\n",
        "                   title='Percentage of Patients Who Flipped by Gender',\n",
        "                   xlabel='Gender', ylabel='Percentage Flipped',\n",
        "                   legend=False, rot=0)\n",
        "plt.show()"
      ]
    },
    {
      "cell_type": "markdown",
      "metadata": {
        "id": "kBD9Y_X3Y60M"
      },
      "source": [
        "###Average LOS and Percentage Flipped by DRG"
      ]
    },
    {
      "cell_type": "code",
      "execution_count": null,
      "metadata": {
        "colab": {
          "base_uri": "https://localhost:8080/"
        },
        "id": "zthWBfkbZA_0",
        "outputId": "42102499-0c82-414b-a1ec-d40596065e06"
      },
      "outputs": [
        {
          "name": "stdout",
          "output_type": "stream",
          "text": [
            "|    |   DRG01 |   aveLOS_hrs |   percFlipped |   n |\n",
            "|---:|--------:|-------------:|--------------:|----:|\n",
            "|  0 |     276 |      66.3744 |      0.603306 | 121 |\n",
            "|  1 |     428 |      58.7735 |      0.612245 |  49 |\n",
            "|  2 |     486 |      56.114  |      0.578947 |  57 |\n",
            "|  3 |     558 |      64.3152 |      0.727273 |  33 |\n",
            "|  4 |     577 |      67.3048 |      0.761905 |  21 |\n",
            "|  5 |     578 |      55.0902 |      0.536585 |  41 |\n",
            "|  6 |     599 |      84.8415 |      0.658537 |  82 |\n",
            "|  7 |     780 |      72.1674 |      0.372483 | 298 |\n",
            "|  8 |     782 |      52.9652 |      0.391304 |  23 |\n",
            "|  9 |     786 |      50.7243 |      0.337838 | 148 |\n",
            "| 10 |     787 |      62.8723 |      0.457831 |  83 |\n",
            "| 11 |     789 |      41.7091 |      0.328671 | 143 |\n"
          ]
        }
      ],
      "source": [
        "by_DRG = df.groupby(\"DRG01\", observed=False)\n",
        "ave_by_DRG = by_DRG.agg(aveLOS_hrs=pd.NamedAgg(column='OU_LOS_hrs', aggfunc='mean'),\n",
        "                        percFlipped=pd.NamedAgg(column='Flipped', aggfunc='mean'),\n",
        "                        n=pd.NamedAgg(column='OU_LOS_hrs', aggfunc='count')).reset_index()\n",
        "print(ave_by_DRG.to_markdown())"
      ]
    },
    {
      "cell_type": "code",
      "execution_count": null,
      "metadata": {
        "colab": {
          "base_uri": "https://localhost:8080/",
          "height": 472
        },
        "id": "Vo1t36U1ZPcd",
        "outputId": "a9928507-25c7-4a4b-bde8-1b970f576cb2"
      },
      "outputs": [
        {
          "data": {
            "image/png": "[encoded data removed]",
            "text/plain": [
              "<Figure size 640x480 with 1 Axes>"
            ]
          },
          "metadata": {},
          "output_type": "display_data"
        }
      ],
      "source": [
        "#Bar chart of Average LOS by DRG\n",
        "ave_by_DRG.plot(x='DRG01', y='aveLOS_hrs', kind='bar',\n",
        "                title='Average LOS by DRG',\n",
        "                xlabel='DRG Group', ylabel='Average LOS (hours)',\n",
        "                legend=False, rot=0)\n",
        "plt.show()"
      ]
    },
    {
      "cell_type": "code",
      "execution_count": null,
      "metadata": {
        "colab": {
          "base_uri": "https://localhost:8080/",
          "height": 472
        },
        "id": "nx8OqCXyZXCw",
        "outputId": "ff4816e6-6764-48f1-c240-3243a14d39d8"
      },
      "outputs": [
        {
          "data": {
            "image/png": "[encoded data removed]",
            "text/plain": [
              "<Figure size 640x480 with 1 Axes>"
            ]
          },
          "metadata": {},
          "output_type": "display_data"
        }
      ],
      "source": [
        "#Bar chart of percentage flipped by DRG\n",
        "ave_by_DRG.plot(x='DRG01', y='percFlipped', kind='bar',\n",
        "                title='Percentage of Patients Who Flipped by DRG',\n",
        "                xlabel='DRG Group', ylabel='Percentage Flipped',\n",
        "                legend=False, rot=0)\n",
        "plt.show()"
      ]
    },
    {
      "cell_type": "markdown",
      "metadata": {
        "id": "FQLjoaqcZkxG"
      },
      "source": [
        "###Average LOS, Percentage Flipped, and number of obs by Age Category, Gender and DRG"
      ]
    },
    {
      "cell_type": "code",
      "execution_count": null,
      "metadata": {
        "colab": {
          "base_uri": "https://localhost:8080/"
        },
        "id": "7jWAFlmeZu84",
        "outputId": "8b54b585-878d-47f9-c023-f870caffa472"
      },
      "outputs": [
        {
          "name": "stdout",
          "output_type": "stream",
          "text": [
            "|    | AgeCat   | Gender   |   aveLOS_hrs |   percFlipped |   n |\n",
            "|---:|:---------|:---------|-------------:|--------------:|----:|\n",
            "|  0 | (18, 29] | Female   |      52.3304 |      0.521739 |  23 |\n",
            "|  1 | (18, 29] | Male     |      46.1313 |      0.5625   |  16 |\n",
            "|  2 | (29, 39] | Female   |      46.5533 |      0.4      |  45 |\n",
            "|  3 | (29, 39] | Male     |      73.5667 |      0.541667 |  24 |\n",
            "|  4 | (39, 49] | Female   |      49.8776 |      0.44898  |  49 |\n",
            "|  5 | (39, 49] | Male     |      42.9471 |      0.323529 |  34 |\n",
            "|  6 | (49, 59] | Female   |      42.2515 |      0.367647 |  68 |\n",
            "|  7 | (49, 59] | Male     |      57.1518 |      0.428571 |  56 |\n",
            "|  8 | (59, 69] | Female   |      51.1367 |      0.387755 |  98 |\n",
            "|  9 | (59, 69] | Male     |      50.0145 |      0.483871 |  62 |\n",
            "| 10 | (69, 79] | Female   |      54.5467 |      0.411215 | 107 |\n",
            "| 11 | (69, 79] | Male     |      68.4103 |      0.528736 |  87 |\n",
            "| 12 | (79, 89] | Female   |      75.6244 |      0.48855  | 262 |\n",
            "| 13 | (79, 89] | Male     |      76.0786 |      0.517857 | 168 |\n"
          ]
        }
      ],
      "source": [
        "by_AgeCat_Gender = df.groupby([\"AgeCat\", \"Gender\"], observed=False)\n",
        "ave_by_AgeCat_Gender = by_AgeCat_Gender.agg(aveLOS_hrs=pd.NamedAgg(column='OU_LOS_hrs', aggfunc='mean'),\n",
        "                                            percFlipped=pd.NamedAgg(column='Flipped', aggfunc='mean'),\n",
        "                                            n=pd.NamedAgg(column='OU_LOS_hrs', aggfunc='count')).reset_index()\n",
        "print(ave_by_AgeCat_Gender.to_markdown())"
      ]
    },
    {
      "cell_type": "code",
      "execution_count": null,
      "metadata": {
        "colab": {
          "base_uri": "https://localhost:8080/"
        },
        "id": "znvQL09JaVHE",
        "outputId": "9810ecba-0953-4223-ae68-175932f1c0c0"
      },
      "outputs": [
        {
          "name": "stdout",
          "output_type": "stream",
          "text": [
            "|    | AgeCat   |   Female |     Male |\n",
            "|---:|:---------|---------:|---------:|\n",
            "|  0 | (18, 29] | 0.521739 | 0.5625   |\n",
            "|  1 | (29, 39] | 0.4      | 0.541667 |\n",
            "|  2 | (39, 49] | 0.44898  | 0.323529 |\n",
            "|  3 | (49, 59] | 0.367647 | 0.428571 |\n",
            "|  4 | (59, 69] | 0.387755 | 0.483871 |\n",
            "|  5 | (69, 79] | 0.411215 | 0.528736 |\n",
            "|  6 | (79, 89] | 0.48855  | 0.517857 |\n"
          ]
        }
      ],
      "source": [
        "by_AgeCat_Gender = df.groupby([\"AgeCat\", \"Gender\"], observed=False)\n",
        "ave_by_AgeCat_Gender = by_AgeCat_Gender['Flipped'].mean().reset_index()\n",
        "ave_by_AgeCat_Gender = ave_by_AgeCat_Gender.pivot_table(values='Flipped',\n",
        "                                                        columns='Gender',\n",
        "                                                        index=ave_by_AgeCat_Gender['AgeCat'],\n",
        "                                                        aggfunc='mean',observed=False).reset_index()\n",
        "print(ave_by_AgeCat_Gender.to_markdown())"
      ]
    },
    {
      "cell_type": "code",
      "execution_count": null,
      "metadata": {
        "colab": {
          "base_uri": "https://localhost:8080/",
          "height": 513
        },
        "id": "KuqTUhTkbScY",
        "outputId": "df011d54-d040-4667-f487-3b3753bd79a6"
      },
      "outputs": [
        {
          "data": {
            "image/png": "[encoded data removed]",
            "text/plain": [
              "<Figure size 640x480 with 1 Axes>"
            ]
          },
          "metadata": {},
          "output_type": "display_data"
        }
      ],
      "source": [
        "#Bar chart of Percentage Flipped by Gender\n",
        "ave_by_AgeCat_Gender.plot(x='AgeCat', kind='bar', stacked=True,\n",
        "                          title='Percentage of Patients Who Flipped by AgeCat and Gender',\n",
        "                          xlabel='Age Category', ylabel='Percentage Flipped',\n",
        "                          color=['orange', 'b'])\n",
        "plt.show()"
      ]
    },
    {
      "cell_type": "code",
      "execution_count": null,
      "metadata": {
        "colab": {
          "base_uri": "https://localhost:8080/"
        },
        "id": "YKXIwjSLbeLi",
        "outputId": "b95b07e4-cf52-493d-df1e-968d607af5f2"
      },
      "outputs": [
        {
          "name": "stdout",
          "output_type": "stream",
          "text": [
            "|    |   DRG01 |   Female |     Male |\n",
            "|---:|--------:|---------:|---------:|\n",
            "|  0 |     276 | 0.626506 | 0.552632 |\n",
            "|  1 |     428 | 0.6      | 0.62069  |\n",
            "|  2 |     486 | 0.62069  | 0.535714 |\n",
            "|  3 |     558 | 0.75     | 0.6      |\n",
            "|  4 |     577 | 0.818182 | 0.7      |\n",
            "|  5 |     578 | 0.65     | 0.428571 |\n",
            "|  6 |     599 | 0.560976 | 0.756098 |\n",
            "|  7 |     780 | 0.382353 | 0.359375 |\n",
            "|  8 |     782 | 0.266667 | 0.625    |\n",
            "|  9 |     786 | 0.285714 | 0.40625  |\n",
            "| 10 |     787 | 0.408163 | 0.529412 |\n",
            "| 11 |     789 | 0.254902 | 0.512195 |\n"
          ]
        }
      ],
      "source": [
        "#Percentage Flipped by DRG and Gender\n",
        "by_DRG_Gender = df.groupby([\"DRG01\", \"Gender\"], observed=False)\n",
        "ave_by_DRG_Gender = by_DRG_Gender['Flipped'].mean().reset_index()\n",
        "ave_by_DRG_Gender = ave_by_DRG_Gender.pivot_table(values='Flipped', columns='Gender',\n",
        "                                                  index=ave_by_DRG_Gender['DRG01'],\n",
        "                                                  aggfunc='mean', observed=False).reset_index()\n",
        "print(ave_by_DRG_Gender.to_markdown())"
      ]
    },
    {
      "cell_type": "code",
      "execution_count": null,
      "metadata": {
        "colab": {
          "base_uri": "https://localhost:8080/",
          "height": 484
        },
        "id": "N_cTpUlwboyK",
        "outputId": "e184b912-5f0d-4a86-de3a-d0f2bd510e38"
      },
      "outputs": [
        {
          "data": {
            "image/png": "[encoded data removed]",
            "text/plain": [
              "<Figure size 640x480 with 1 Axes>"
            ]
          },
          "metadata": {},
          "output_type": "display_data"
        }
      ],
      "source": [
        "#Bar chart of Percentage Flipped by DRG and Gender\n",
        "ave_by_DRG_Gender.plot(x='DRG01', kind='bar', stacked=True,\n",
        "                       title='Percentage of Patients Who Flipped by DRG and Gender',\n",
        "                       xlabel='DRG',  # This was previously mislabeled as 'Age Category'\n",
        "                       ylabel='Percentage Flipped',\n",
        "                       color=['orange', 'b'])  # Specify colors: blue for Male, orange for Female\n",
        "plt.show()"
      ]
    },
    {
      "cell_type": "markdown",
      "metadata": {
        "id": "azrBuhY_cICK"
      },
      "source": [
        "###Percentage Flipped by Primary Insurance Category"
      ]
    },
    {
      "cell_type": "code",
      "execution_count": null,
      "metadata": {
        "colab": {
          "base_uri": "https://localhost:8080/"
        },
        "id": "oOye-9M8cOUS",
        "outputId": "8ee54d50-2345-4870-f05f-71a311a0ab89"
      },
      "outputs": [
        {
          "name": "stdout",
          "output_type": "stream",
          "text": [
            "|    | PrimaryInsuranceCategory   |   Flipped |\n",
            "|---:|:---------------------------|----------:|\n",
            "|  0 | MEDICAID OTHER             |  0.427184 |\n",
            "|  1 | MEDICAID STATE             |  0.421053 |\n",
            "|  2 | MEDICARE                   |  0.60625  |\n",
            "|  3 | MEDICARE OTHER             |  0.406619 |\n",
            "|  4 | Private                    |  0.360759 |\n"
          ]
        }
      ],
      "source": [
        "by_Insur = df.groupby(\"PrimaryInsuranceCategory\", observed=False)\n",
        "ave_by_Insur = by_Insur['Flipped'].mean().reset_index()\n",
        "print(ave_by_Insur.to_markdown())"
      ]
    },
    {
      "cell_type": "code",
      "execution_count": null,
      "metadata": {
        "colab": {
          "base_uri": "https://localhost:8080/"
        },
        "id": "bhiB1CToco8T",
        "outputId": "cd4694e5-0521-4c03-f176-6e54e32b61df"
      },
      "outputs": [
        {
          "name": "stdout",
          "output_type": "stream",
          "text": [
            "|    | PrimaryInsuranceCategory   |   aveLOS_hrs |   percFlipped |   n |\n",
            "|---:|:---------------------------|-------------:|--------------:|----:|\n",
            "|  0 | MEDICAID OTHER             |      52.133  |      0.427184 | 103 |\n",
            "|  1 | MEDICAID STATE             |      54.5537 |      0.421053 |  95 |\n",
            "|  2 | MEDICARE                   |      69.5797 |      0.60625  | 320 |\n",
            "|  3 | MEDICARE OTHER             |      67.7839 |      0.406619 | 423 |\n",
            "|  4 | Private                    |      42.9424 |      0.360759 | 158 |\n"
          ]
        }
      ],
      "source": [
        "by_Insur = df.groupby(\"PrimaryInsuranceCategory\", observed=False)\n",
        "\n",
        "# Perform the aggregations\n",
        "ave_by_Insur = by_Insur.agg(\n",
        "    aveLOS_hrs=pd.NamedAgg(column='OU_LOS_hrs', aggfunc='mean'),\n",
        "    percFlipped=pd.NamedAgg(column='Flipped', aggfunc='mean'),\n",
        "    n=pd.NamedAgg(column='OU_LOS_hrs', aggfunc='count')\n",
        ").reset_index()\n",
        "\n",
        "print(ave_by_Insur.to_markdown())"
      ]
    },
    {
      "cell_type": "code",
      "execution_count": null,
      "metadata": {
        "colab": {
          "base_uri": "https://localhost:8080/",
          "height": 556
        },
        "id": "v3paY6KRc_zS",
        "outputId": "a4cad3d5-c1c0-4e6a-f3d1-2d7bdca8e3ee"
      },
      "outputs": [
        {
          "data": {
            "image/png": "[encoded data removed]",
            "text/plain": [
              "<Figure size 640x480 with 1 Axes>"
            ]
          },
          "metadata": {},
          "output_type": "display_data"
        }
      ],
      "source": [
        "#Bar chart of Percentage Flipped by PrimaryInsuranceCategory\n",
        "ave_by_Insur.plot(x='PrimaryInsuranceCategory', y='percFlipped', kind='bar',\n",
        "                  title='Percentage of Patients Who Flipped by Primary Insurance Category',\n",
        "                  xlabel='Primary Insurance Category', ylabel='Percentage Flipped',\n",
        "                  legend=False, rot=45)\n",
        "plt.show()"
      ]
    },
    {
      "cell_type": "code",
      "execution_count": null,
      "metadata": {
        "colab": {
          "base_uri": "https://localhost:8080/"
        },
        "id": "B_5Qed0OdRYd",
        "outputId": "9cec680b-a50d-4d08-845f-ab79183b71c6"
      },
      "outputs": [
        {
          "name": "stdout",
          "output_type": "stream",
          "text": [
            "|    |   DRG01 |   MEDICAID OTHER |   MEDICAID STATE |   MEDICARE |   MEDICARE OTHER |    Private |\n",
            "|---:|--------:|-----------------:|-----------------:|-----------:|-----------------:|-----------:|\n",
            "|  0 |     276 |         0.615385 |         0.666667 |   0.65     |         0.5625   |   0.545455 |\n",
            "|  1 |     428 |         1        |         0.75     |   0.789474 |         0.44     | nan        |\n",
            "|  2 |     486 |         0.333333 |         0.8      |   0.764706 |         0.5      |   0.4      |\n",
            "|  3 |     558 |         0.7      |         1        |   0.75     |         0.6      |   0.833333 |\n",
            "|  4 |     577 |         0.75     |         0        |   0.666667 |         0.75     |   0.888889 |\n",
            "|  5 |     578 |         0.666667 |         0.6      |   0.727273 |         0.470588 |   0.2      |\n",
            "|  6 |     599 |         0.5      |         0.857143 |   0.710526 |         0.6      |   0.4      |\n",
            "|  7 |     780 |         0.333333 |         0.15     |   0.535354 |         0.297297 |   0.36     |\n",
            "|  8 |     782 |         0        |         0.25     |   0.666667 |         0.3      |   0.6      |\n",
            "|  9 |     786 |         0.125    |         0.235294 |   0.5      |         0.333333 |   0.25     |\n",
            "| 10 |     787 |         0.4      |         0.444444 |   0.571429 |         0.483871 |   0.357143 |\n",
            "| 11 |     789 |         0.37931  |         0.272727 |   0.538462 |         0.333333 |   0.181818 |\n"
          ]
        }
      ],
      "source": [
        "by_DRG_Insur = df.groupby([\"DRG01\", \"PrimaryInsuranceCategory\"], observed=False)\n",
        "ave_by_DRG_Insur = by_DRG_Insur['Flipped'].mean().reset_index()\n",
        "ave_by_DRG_Insur = ave_by_DRG_Insur.pivot_table(values='Flipped',\n",
        "                                                columns='PrimaryInsuranceCategory',\n",
        "                                                index=ave_by_DRG_Insur['DRG01'],\n",
        "                                                aggfunc='mean',\n",
        "                                                observed=False).reset_index()\n",
        "print(ave_by_DRG_Insur.to_markdown())"
      ]
    },
    {
      "cell_type": "code",
      "execution_count": null,
      "metadata": {
        "colab": {
          "base_uri": "https://localhost:8080/",
          "height": 484
        },
        "id": "-IsM7DWwdhx8",
        "outputId": "d98ccdab-549d-4d29-f07a-e00f0b0e6d01"
      },
      "outputs": [
        {
          "data": {
            "image/png": "[encoded data removed]",
            "text/plain": [
              "<Figure size 640x480 with 1 Axes>"
            ]
          },
          "metadata": {},
          "output_type": "display_data"
        }
      ],
      "source": [
        "#Bar chart of Percentage Flipped by DRG and Insurance Type\n",
        "ave_by_DRG_Insur.plot(x='DRG01', kind='bar', stacked=True,\n",
        "                      title='Percentage of Patients Who Flipped by DRG and Primary Insurance Category',\n",
        "                      xlabel='DRG', ylabel='Percentage Flipped')\n",
        "plt.show()"
      ]
    },
    {
      "cell_type": "markdown",
      "metadata": {
        "id": "eww17gp9R52E"
      },
      "source": [
        "Great job! Now you have looked at various data summaries and visualizations to understand whether or not an observation status patient will flip."
      ]
    },
    {
      "cell_type": "markdown",
      "metadata": {
        "id": "6k_XjFg9-l6o"
      },
      "source": [
        "Additional tests conducted"
      ]
    },
    {
      "cell_type": "code",
      "execution_count": null,
      "metadata": {
        "colab": {
          "base_uri": "https://localhost:8080/"
        },
        "id": "2hF6m3My-p7X",
        "outputId": "bd81c81b-6821-403d-aa7b-9277a7da4450"
      },
      "outputs": [
        {
          "name": "stdout",
          "output_type": "stream",
          "text": [
            "T-statistic: 1.485818520285824\n",
            "P-value: 0.13761444538636763\n"
          ]
        }
      ],
      "source": [
        "from scipy import stats\n",
        "\n",
        "# Perform a t-test to compare the average LOS between males and females\n",
        "male_los = df[df['Gender'] == 'Male']['OU_LOS_hrs']\n",
        "female_los = df[df['Gender'] == 'Female']['OU_LOS_hrs']\n",
        "t_statistic, p_value = stats.ttest_ind(male_los, female_los)\n",
        "\n",
        "print(\"T-statistic:\", t_statistic)\n",
        "print(\"P-value:\", p_value)\n"
      ]
    },
    {
      "cell_type": "code",
      "execution_count": null,
      "metadata": {
        "colab": {
          "base_uri": "https://localhost:8080/"
        },
        "id": "jg4mmmk2-syL",
        "outputId": "1c9ffff3-4fb4-4231-dbbf-ecbff68eba77"
      },
      "outputs": [
        {
          "name": "stdout",
          "output_type": "stream",
          "text": [
            "F-statistic: 5.943778672582098\n",
            "P-value: 1.8486109178647588e-09\n"
          ]
        }
      ],
      "source": [
        "from scipy import stats\n",
        "\n",
        "# Perform ANOVA to compare the average LOS between different DRG groups\n",
        "drg_groups = df['DRG01'].unique()\n",
        "los_by_drg = [df[df['DRG01'] == drg]['OU_LOS_hrs'] for drg in drg_groups]\n",
        "f_statistic, p_value = stats.f_oneway(*los_by_drg)\n",
        "\n",
        "print(\"F-statistic:\", f_statistic)\n",
        "print(\"P-value:\", p_value)"
      ]
    },
    {
      "cell_type": "code",
      "execution_count": null,
      "metadata": {
        "colab": {
          "base_uri": "https://localhost:8080/"
        },
        "id": "ozH3Qnms_6xc",
        "outputId": "6e39aa8d-e6b9-4644-f6f3-5765ef3e744a"
      },
      "outputs": [
        {
          "name": "stdout",
          "output_type": "stream",
          "text": [
            " Multiple Comparison of Means - Tukey HSD, FWER=0.05  \n",
            "======================================================\n",
            "group1 group2 meandiff p-adj   lower    upper   reject\n",
            "------------------------------------------------------\n",
            "   276    428  -7.6009 0.9991 -35.0984  19.8965  False\n",
            "   276    486 -10.2603 0.9806 -36.3482  15.8275  False\n",
            "   276    558  -2.0592    1.0 -33.9503  29.8319  False\n",
            "   276    577   0.9304    1.0 -37.4581  39.3188  False\n",
            "   276    578 -11.2841 0.9837  -40.629  18.0607  False\n",
            "   276    599  18.4671 0.2786  -4.7607  41.6948  False\n",
            "   276    780   5.7931 0.9953  -11.712  23.2982  False\n",
            "   276    782 -13.4092 0.9898  -50.348  23.5297  False\n",
            "   276    786 -15.6501  0.295 -35.5527   4.2526  False\n",
            "   276    787  -3.5021    1.0 -26.6463  19.6421  False\n",
            "   276    789 -24.6653 0.0035 -44.7239  -4.6067   True\n",
            "   428    486  -2.6594    1.0  -34.295  28.9762  False\n",
            "   428    558   5.5417    1.0 -31.0271  42.1105  False\n",
            "   428    577   8.5313    1.0 -33.8233  50.8858  False\n",
            "   428    578  -3.6832    1.0 -38.0541  30.6876  False\n",
            "   428    599   26.068 0.1381  -3.2537  55.3897  False\n",
            "   428    780   13.394 0.8431 -11.6393  38.4272  False\n",
            "   428    782  -5.8083    1.0 -46.8535   35.237  False\n",
            "   428    786  -8.0491  0.998 -34.8139  18.7156  False\n",
            "   428    787   4.0988    1.0 -25.1568  33.3544  False\n",
            "   428    789 -17.0644 0.6379 -43.9453   9.8165  False\n",
            "   486    558   8.2011 0.9998 -27.3199  43.7222  False\n",
            "   486    577  11.1907 0.9993 -30.2626   52.644  False\n",
            "   486    578  -1.0238    1.0 -34.2777  32.2301  False\n",
            "   486    599  28.7274 0.0384   0.7233  56.7315   True\n",
            "   486    780  16.0534  0.521  -7.4228  39.5296  False\n",
            "   486    782  -3.1488    1.0 -43.2634  36.9658  False\n",
            "   486    786  -5.3897 0.9999 -30.7041  19.9247  False\n",
            "   486    787   6.7583 0.9997 -21.1766  34.6931  False\n",
            "   486    789 -14.4049 0.7869 -39.8421  11.0322  False\n",
            "   558    577   2.9896    1.0 -42.3407    48.32  False\n",
            "   558    578  -9.2249 0.9997 -47.2024  28.7525  False\n",
            "   558    599  20.5263 0.6879 -12.9505  54.0031  False\n",
            "   558    780   7.8523 0.9994 -21.9403  37.6448  False\n",
            "   558    782 -11.3499 0.9995 -55.4594  32.7595  False\n",
            "   558    786 -13.5908 0.9588 -44.8524  17.6707  False\n",
            "   558    787  -1.4429    1.0 -34.8617   31.976  False\n",
            "   558    789 -22.6061 0.4339 -53.9671    8.755  False\n",
            "   577    578 -12.2145 0.9989 -55.7911  31.3621  False\n",
            "   577    599  17.5367  0.954 -22.1789  57.2523  False\n",
            "   577    780   4.8627    1.0  -31.801  41.5264  False\n",
            "   577    782 -14.3395 0.9984 -63.3526  34.6735  False\n",
            "   577    786 -16.5804 0.9567 -54.4475  21.2866  False\n",
            "   577    787  -4.4325    1.0 -44.0992  35.2343  False\n",
            "   577    789 -25.5957 0.5433 -63.5449  12.3536  False\n",
            "   578    599  29.7512 0.0752  -1.3096   60.812  False\n",
            "   578    780  17.0772 0.6461  -9.9723  44.1267  False\n",
            "   578    782   -2.125    1.0 -44.4301  40.1801  False\n",
            "   578    786  -4.3659    1.0 -33.0253  24.2935  False\n",
            "   578    787    7.782 0.9996 -23.2163  38.7804  False\n",
            "   578    789 -13.3812 0.9341  -42.149  15.3867  False\n",
            "   599    780  -12.674 0.6588 -32.9245   7.5765  False\n",
            "   599    782 -31.8762 0.2154 -70.1925     6.44  False\n",
            "   599    786 -34.1171    0.0 -56.4727 -11.7616   True\n",
            "   599    787 -21.9692 0.1626 -47.2537   3.3154  False\n",
            "   599    789 -43.1324    0.0 -65.6268 -20.6379   True\n",
            "   780    782 -19.2022 0.8237 -54.3453  15.9408  False\n",
            "   780    786 -21.4431 0.0011 -37.7732  -5.1131   True\n",
            "   780    787  -9.2952 0.9378 -29.4498  10.8594  False\n",
            "   780    789 -30.4584    0.0 -46.9781 -13.9387   True\n",
            "   782    786  -2.2409    1.0 -38.6376  34.1558  False\n",
            "   782    787   9.9071 0.9995 -28.3585  48.1727  False\n",
            "   782    789 -11.2561 0.9975 -47.7383  25.2261  False\n",
            "   786    787   12.148 0.8253 -10.1207  34.4167  False\n",
            "   786    789  -9.0152 0.9259  -28.057  10.0265  False\n",
            "   787    789 -21.1632 0.0852 -43.5713   1.2449  False\n",
            "------------------------------------------------------\n"
          ]
        }
      ],
      "source": [
        "from statsmodels.stats.multicomp import pairwise_tukeyhsd\n",
        "\n",
        "# Perform Tukey's HSD post-hoc test\n",
        "tukey_result = pairwise_tukeyhsd(df['OU_LOS_hrs'], df['DRG01'], alpha=0.05)\n",
        "\n",
        "# Print the results\n",
        "print(tukey_result)"
      ]
    },
    {
      "cell_type": "code",
      "execution_count": null,
      "metadata": {
        "colab": {
          "base_uri": "https://localhost:8080/"
        },
        "id": "7F1mUONP-ugV",
        "outputId": "260f4b58-2f13-4934-ab44-a16b17cb901c"
      },
      "outputs": [
        {
          "name": "stdout",
          "output_type": "stream",
          "text": [
            "Chi-squared statistic: 2.678599929572928\n",
            "P-value: 0.10170510961810485\n"
          ]
        }
      ],
      "source": [
        "from scipy import stats\n",
        "\n",
        "# Create a contingency table of gender and flipped status\n",
        "contingency_table = pd.crosstab(df['Gender'], df['Flipped'])\n",
        "\n",
        "# Perform a chi-squared test\n",
        "chi2_statistic, p_value, dof, expected = stats.chi2_contingency(contingency_table)\n",
        "\n",
        "print(\"Chi-squared statistic:\", chi2_statistic)\n",
        "print(\"P-value:\", p_value)"
      ]
    },
    {
      "cell_type": "code",
      "execution_count": null,
      "metadata": {
        "colab": {
          "base_uri": "https://localhost:8080/"
        },
        "id": "FHQSpwUp-vda",
        "outputId": "4f3738b2-3a48-4654-8d60-7caefde61a21"
      },
      "outputs": [
        {
          "name": "stdout",
          "output_type": "stream",
          "text": [
            "Correlation: 0.19605401940205117\n"
          ]
        }
      ],
      "source": [
        "# Calculate the correlation between age and LOS\n",
        "correlation = df['Age'].corr(df['OU_LOS_hrs'])\n",
        "\n",
        "print(\"Correlation:\", correlation)"
      ]
    },
    {
      "cell_type": "code",
      "execution_count": null,
      "metadata": {
        "colab": {
          "base_uri": "https://localhost:8080/"
        },
        "id": "qet9AGdV-v7v",
        "outputId": "032e2431-9402-4e59-a69c-a6f140b11cd4"
      },
      "outputs": [
        {
          "name": "stdout",
          "output_type": "stream",
          "text": [
            "                            OLS Regression Results                            \n",
            "==============================================================================\n",
            "Dep. Variable:             OU_LOS_hrs   R-squared:                       0.041\n",
            "Model:                            OLS   Adj. R-squared:                  0.039\n",
            "Method:                 Least Squares   F-statistic:                     23.21\n",
            "Date:                Sat, 01 Feb 2025   Prob (F-statistic):           1.34e-10\n",
            "Time:                        14:55:55   Log-Likelihood:                -5852.8\n",
            "No. Observations:                1099   AIC:                         1.171e+04\n",
            "Df Residuals:                    1096   BIC:                         1.173e+04\n",
            "Df Model:                           2                                         \n",
            "Covariance Type:            nonrobust                                         \n",
            "==================================================================================\n",
            "                     coef    std err          t      P>|t|      [0.025      0.975]\n",
            "----------------------------------------------------------------------------------\n",
            "Intercept         22.8099      5.962      3.826      0.000      11.111      34.509\n",
            "Gender[T.Male]     4.8516      3.058      1.586      0.113      -1.149      10.852\n",
            "Age                0.5414      0.081      6.643      0.000       0.382       0.701\n",
            "==============================================================================\n",
            "Omnibus:                      491.781   Durbin-Watson:                   2.060\n",
            "Prob(Omnibus):                  0.000   Jarque-Bera (JB):             2828.179\n",
            "Skew:                           2.007   Prob(JB):                         0.00\n",
            "Kurtosis:                       9.757   Cond. No.                         286.\n",
            "==============================================================================\n",
            "\n",
            "Notes:\n",
            "[1] Standard Errors assume that the covariance matrix of the errors is correctly specified.\n"
          ]
        }
      ],
      "source": [
        "import statsmodels.formula.api as sm\n",
        "\n",
        "# Create a linear regression model to predict LOS based on age and gender\n",
        "model = sm.ols('OU_LOS_hrs ~ Age + Gender', data=df).fit()\n",
        "\n",
        "# Print the model summary\n",
        "print(model.summary())"
      ]
    },
    {
      "cell_type": "code",
      "execution_count": null,
      "metadata": {
        "colab": {
          "base_uri": "https://localhost:8080/"
        },
        "id": "GfeM7iSUBNdb",
        "outputId": "b8c01eb1-59dc-4e46-d2a5-861499e246cb"
      },
      "outputs": [
        {
          "name": "stdout",
          "output_type": "stream",
          "text": [
            "                            OLS Regression Results                            \n",
            "==============================================================================\n",
            "Dep. Variable:             OU_LOS_hrs   R-squared:                       0.075\n",
            "Model:                            OLS   Adj. R-squared:                  0.064\n",
            "Method:                 Least Squares   F-statistic:                     6.770\n",
            "Date:                Sat, 01 Feb 2025   Prob (F-statistic):           1.23e-12\n",
            "Time:                        14:58:07   Log-Likelihood:                -5832.7\n",
            "No. Observations:                1099   AIC:                         1.169e+04\n",
            "Df Residuals:                    1085   BIC:                         1.176e+04\n",
            "Df Model:                          13                                         \n",
            "Covariance Type:            nonrobust                                         \n",
            "==================================================================================\n",
            "                     coef    std err          t      P>|t|      [0.025      0.975]\n",
            "----------------------------------------------------------------------------------\n",
            "Intercept         36.2376      7.909      4.582      0.000      20.720      51.756\n",
            "Gender[T.Male]     4.0073      3.075      1.303      0.193      -2.027      10.042\n",
            "DRG01[T.428]     -10.8498      8.382     -1.294      0.196     -27.296       5.596\n",
            "DRG01[T.486]     -11.4512      7.915     -1.447      0.148     -26.981       4.079\n",
            "DRG01[T.558]       1.8946      9.694      0.195      0.845     -17.127      20.916\n",
            "DRG01[T.577]       9.1501     11.788      0.776      0.438     -13.980      32.280\n",
            "DRG01[T.578]     -11.1196      8.903     -1.249      0.212     -28.589       6.350\n",
            "DRG01[T.599]      15.6384      7.070      2.212      0.027       1.766      29.511\n",
            "DRG01[T.780]       3.3156      5.330      0.622      0.534      -7.143      13.774\n",
            "DRG01[T.782]     -11.9204     11.185     -1.066      0.287     -33.867      10.026\n",
            "DRG01[T.786]     -13.3843      6.062     -2.208      0.027     -25.280      -1.489\n",
            "DRG01[T.787]      -0.1927      7.056     -0.027      0.978     -14.037      13.652\n",
            "DRG01[T.789]     -17.8294      6.252     -2.852      0.004     -30.097      -5.562\n",
            "Age                0.4036      0.089      4.514      0.000       0.228       0.579\n",
            "==============================================================================\n",
            "Omnibus:                      491.843   Durbin-Watson:                   2.032\n",
            "Prob(Omnibus):                  0.000   Jarque-Bera (JB):             2978.834\n",
            "Skew:                           1.985   Prob(JB):                         0.00\n",
            "Kurtosis:                      10.021   Cond. No.                         836.\n",
            "==============================================================================\n",
            "\n",
            "Notes:\n",
            "[1] Standard Errors assume that the covariance matrix of the errors is correctly specified.\n"
          ]
        }
      ],
      "source": [
        "import statsmodels.formula.api as sm\n",
        "\n",
        "# Create the linear regression model\n",
        "model = sm.ols('OU_LOS_hrs ~ Age + Gender + DRG01', data=df).fit()\n",
        "\n",
        "# Print the model summary\n",
        "print(model.summary())"
      ]
    },
    {
      "cell_type": "code",
      "execution_count": null,
      "metadata": {
        "colab": {
          "base_uri": "https://localhost:8080/"
        },
        "id": "fPGMbD3IFRl2",
        "outputId": "8d28dd7c-58fe-4857-8f62-27bd53c5c825"
      },
      "outputs": [
        {
          "name": "stdout",
          "output_type": "stream",
          "text": [
            "                            OLS Regression Results                            \n",
            "==============================================================================\n",
            "Dep. Variable:                Flipped   R-squared:                       0.073\n",
            "Model:                            OLS   Adj. R-squared:                  0.062\n",
            "Method:                 Least Squares   F-statistic:                     6.604\n",
            "Date:                Sat, 01 Feb 2025   Prob (F-statistic):           2.95e-12\n",
            "Time:                        15:16:37   Log-Likelihood:                -752.50\n",
            "No. Observations:                1099   AIC:                             1533.\n",
            "Df Residuals:                    1085   BIC:                             1603.\n",
            "Df Model:                          13                                         \n",
            "Covariance Type:            nonrobust                                         \n",
            "==================================================================================\n",
            "                     coef    std err          t      P>|t|      [0.025      0.975]\n",
            "----------------------------------------------------------------------------------\n",
            "Intercept          0.5273      0.078      6.784      0.000       0.375       0.680\n",
            "Gender[T.Male]     0.0490      0.030      1.621      0.105      -0.010       0.108\n",
            "DRG01[T.428]      -0.0092      0.082     -0.111      0.911      -0.171       0.152\n",
            "DRG01[T.486]      -0.0341      0.078     -0.438      0.662      -0.187       0.119\n",
            "DRG01[T.558]       0.1389      0.095      1.458      0.145      -0.048       0.326\n",
            "DRG01[T.577]       0.1693      0.116      1.461      0.144      -0.058       0.397\n",
            "DRG01[T.578]      -0.0744      0.087     -0.851      0.395      -0.246       0.097\n",
            "DRG01[T.599]       0.0417      0.069      0.601      0.548      -0.095       0.178\n",
            "DRG01[T.780]      -0.2407      0.052     -4.595      0.000      -0.343      -0.138\n",
            "DRG01[T.782]      -0.2102      0.110     -1.913      0.056      -0.426       0.005\n",
            "DRG01[T.786]      -0.2655      0.060     -4.457      0.000      -0.382      -0.149\n",
            "DRG01[T.787]      -0.1424      0.069     -2.054      0.040      -0.278      -0.006\n",
            "DRG01[T.789]      -0.2592      0.061     -4.218      0.000      -0.380      -0.139\n",
            "Age                0.0008      0.001      0.965      0.335      -0.001       0.003\n",
            "==============================================================================\n",
            "Omnibus:                     5476.729   Durbin-Watson:                   2.097\n",
            "Prob(Omnibus):                  0.000   Jarque-Bera (JB):              132.200\n",
            "Skew:                           0.158   Prob(JB):                     1.96e-29\n",
            "Kurtosis:                       1.331   Cond. No.                         836.\n",
            "==============================================================================\n",
            "\n",
            "Notes:\n",
            "[1] Standard Errors assume that the covariance matrix of the errors is correctly specified.\n"
          ]
        }
      ],
      "source": [
        "import statsmodels.formula.api as sm\n",
        "\n",
        "# Create the linear regression model\n",
        "model1 = sm.ols('Flipped ~ Age + Gender + DRG01', data=df).fit()\n",
        "\n",
        "# Print the model summary\n",
        "print(model1.summary())"
      ]
    },
    {
      "cell_type": "code",
      "execution_count": null,
      "metadata": {
        "colab": {
          "base_uri": "https://localhost:8080/"
        },
        "id": "lEwJnxReHBsP",
        "outputId": "e62f98ce-f601-45c0-8b43-28e79188fb99"
      },
      "outputs": [
        {
          "name": "stdout",
          "output_type": "stream",
          "text": [
            "                            OLS Regression Results                            \n",
            "==============================================================================\n",
            "Dep. Variable:                Flipped   R-squared:                       0.107\n",
            "Model:                            OLS   Adj. R-squared:                  0.089\n",
            "Method:                 Least Squares   F-statistic:                     5.848\n",
            "Date:                Sat, 01 Feb 2025   Prob (F-statistic):           5.74e-16\n",
            "Time:                        15:23:41   Log-Likelihood:                -732.28\n",
            "No. Observations:                1099   AIC:                             1511.\n",
            "Df Residuals:                    1076   BIC:                             1626.\n",
            "Df Model:                          22                                         \n",
            "Covariance Type:            nonrobust                                         \n",
            "==============================================================================================================\n",
            "                                                 coef    std err          t      P>|t|      [0.025      0.975]\n",
            "--------------------------------------------------------------------------------------------------------------\n",
            "Intercept                                     -0.0435      1.521     -0.029      0.977      -3.029       2.942\n",
            "Gender[T.Male]                                 0.0493      0.030      1.642      0.101      -0.010       0.108\n",
            "PrimaryInsuranceCategory[T.MEDICAID STATE]     0.0087      0.070      0.123      0.902      -0.129       0.147\n",
            "PrimaryInsuranceCategory[T.MEDICARE]           0.2001      0.062      3.213      0.001       0.078       0.322\n",
            "PrimaryInsuranceCategory[T.MEDICARE OTHER]     0.0037      0.063      0.059      0.953      -0.120       0.128\n",
            "PrimaryInsuranceCategory[T.Private]           -0.0387      0.061     -0.633      0.527      -0.158       0.081\n",
            "DRG01[T.428]                                  -0.0166      0.081     -0.204      0.839      -0.176       0.143\n",
            "DRG01[T.486]                                  -0.0262      0.077     -0.339      0.734      -0.178       0.125\n",
            "DRG01[T.558]                                   0.1723      0.095      1.818      0.069      -0.014       0.358\n",
            "DRG01[T.577]                                   0.2009      0.115      1.748      0.081      -0.025       0.426\n",
            "DRG01[T.578]                                  -0.0638      0.086     -0.737      0.461      -0.233       0.106\n",
            "DRG01[T.599]                                   0.0155      0.069      0.225      0.822      -0.120       0.151\n",
            "DRG01[T.780]                                  -0.2379      0.052     -4.588      0.000      -0.340      -0.136\n",
            "DRG01[T.782]                                  -0.1688      0.109     -1.551      0.121      -0.382       0.045\n",
            "DRG01[T.786]                                  -0.2648      0.059     -4.500      0.000      -0.380      -0.149\n",
            "DRG01[T.787]                                  -0.1173      0.069     -1.710      0.088      -0.252       0.017\n",
            "DRG01[T.789]                                  -0.2381      0.061     -3.893      0.000      -0.358      -0.118\n",
            "Age                                           -0.0002      0.001     -0.136      0.891      -0.002       0.002\n",
            "BloodPressureDiff                          -9.878e-05      0.001     -0.138      0.890      -0.002       0.001\n",
            "Pulse                                          0.0002      0.001      0.207      0.836      -0.002       0.002\n",
            "PulseOximetry                                 -0.0033      0.006     -0.596      0.551      -0.014       0.008\n",
            "Respirations                                  -0.0021      0.004     -0.561      0.575      -0.010       0.005\n",
            "Temperature                                    0.0094      0.014      0.654      0.513      -0.019       0.038\n",
            "==============================================================================\n",
            "Omnibus:                     7077.882   Durbin-Watson:                   2.088\n",
            "Prob(Omnibus):                  0.000   Jarque-Bera (JB):              110.928\n",
            "Skew:                           0.139   Prob(JB):                     8.17e-25\n",
            "Kurtosis:                       1.468   Cond. No.                     1.97e+04\n",
            "==============================================================================\n",
            "\n",
            "Notes:\n",
            "[1] Standard Errors assume that the covariance matrix of the errors is correctly specified.\n",
            "[2] The condition number is large, 1.97e+04. This might indicate that there are\n",
            "strong multicollinearity or other numerical problems.\n"
          ]
        }
      ],
      "source": [
        "import statsmodels.formula.api as sm\n",
        "\n",
        "# Create the linear regression model\n",
        "model3 = sm.ols('Flipped ~ Age + Gender + PrimaryInsuranceCategory + DRG01 + BloodPressureDiff + Pulse + PulseOximetry + Respirations + Temperature', data=df).fit()\n",
        "\n",
        "# Print the model summary\n",
        "print(model3.summary())"
      ]
    },
    {
      "cell_type": "code",
      "execution_count": null,
      "metadata": {
        "colab": {
          "base_uri": "https://localhost:8080/"
        },
        "id": "E2upXATDHoWU",
        "outputId": "0195b956-ecb5-4f12-c832-fb053da69dd4"
      },
      "outputs": [
        {
          "name": "stdout",
          "output_type": "stream",
          "text": [
            "Optimization terminated successfully.\n",
            "         Current function value: 0.690153\n",
            "         Iterations 3\n",
            "Optimization terminated successfully.\n",
            "         Current function value: 0.634830\n",
            "         Iterations 5\n",
            "                           Logit Regression Results                           \n",
            "==============================================================================\n",
            "Dep. Variable:                Flipped   No. Observations:                 1099\n",
            "Model:                          Logit   Df Residuals:                     1098\n",
            "Method:                           MLE   Df Model:                            0\n",
            "Date:                Sat, 01 Feb 2025   Pseudo R-squ.:               3.436e-12\n",
            "Time:                        15:26:11   Log-Likelihood:                -758.48\n",
            "converged:                       True   LL-Null:                       -758.48\n",
            "Covariance Type:            nonrobust   LLR p-value:                       nan\n",
            "==============================================================================\n",
            "                 coef    std err          z      P>|z|      [0.025      0.975]\n",
            "------------------------------------------------------------------------------\n",
            "Intercept     -0.1550      0.061     -2.561      0.010      -0.274      -0.036\n",
            "==============================================================================\n",
            "                           Logit Regression Results                           \n",
            "==============================================================================\n",
            "Dep. Variable:                Flipped   No. Observations:                 1099\n",
            "Model:                          Logit   Df Residuals:                     1076\n",
            "Method:                           MLE   Df Model:                           22\n",
            "Date:                Sat, 01 Feb 2025   Pseudo R-squ.:                 0.08016\n",
            "Time:                        15:26:11   Log-Likelihood:                -697.68\n",
            "converged:                       True   LL-Null:                       -758.48\n",
            "Covariance Type:            nonrobust   LLR p-value:                 8.923e-16\n",
            "==============================================================================================================\n",
            "                                                 coef    std err          z      P>|z|      [0.025      0.975]\n",
            "--------------------------------------------------------------------------------------------------------------\n",
            "Intercept                                     -2.3661      6.770     -0.350      0.727     -15.635      10.902\n",
            "Gender[T.Male]                                 0.2187      0.133      1.641      0.101      -0.043       0.480\n",
            "PrimaryInsuranceCategory[T.MEDICAID STATE]     0.0389      0.313      0.124      0.901      -0.575       0.653\n",
            "PrimaryInsuranceCategory[T.MEDICARE]           0.8723      0.279      3.132      0.002       0.326       1.418\n",
            "PrimaryInsuranceCategory[T.MEDICARE OTHER]     0.0190      0.283      0.067      0.946      -0.535       0.573\n",
            "PrimaryInsuranceCategory[T.Private]           -0.1792      0.276     -0.649      0.516      -0.720       0.362\n",
            "DRG01[T.428]                                  -0.0780      0.358     -0.218      0.827      -0.779       0.623\n",
            "DRG01[T.486]                                  -0.1105      0.338     -0.327      0.743      -0.772       0.551\n",
            "DRG01[T.558]                                   0.7722      0.442      1.745      0.081      -0.095       1.639\n",
            "DRG01[T.577]                                   0.9408      0.560      1.680      0.093      -0.157       2.039\n",
            "DRG01[T.578]                                  -0.2723      0.373     -0.730      0.465      -1.004       0.459\n",
            "DRG01[T.599]                                   0.0745      0.308      0.242      0.809      -0.528       0.677\n",
            "DRG01[T.780]                                  -1.0144      0.229     -4.435      0.000      -1.463      -0.566\n",
            "DRG01[T.782]                                  -0.7030      0.476     -1.477      0.140      -1.636       0.230\n",
            "DRG01[T.786]                                  -1.1397      0.263     -4.340      0.000      -1.654      -0.625\n",
            "DRG01[T.787]                                  -0.4885      0.296     -1.650      0.099      -1.069       0.092\n",
            "DRG01[T.789]                                  -1.0152      0.271     -3.741      0.000      -1.547      -0.483\n",
            "Age                                           -0.0007      0.005     -0.136      0.891      -0.010       0.009\n",
            "BloodPressureDiff                             -0.0005      0.003     -0.144      0.886      -0.007       0.006\n",
            "Pulse                                          0.0009      0.004      0.224      0.822      -0.007       0.009\n",
            "PulseOximetry                                 -0.0147      0.025     -0.595      0.552      -0.063       0.034\n",
            "Respirations                                  -0.0096      0.017     -0.574      0.566      -0.042       0.023\n",
            "Temperature                                    0.0414      0.064      0.645      0.519      -0.084       0.167\n",
            "==============================================================================================================\n"
          ]
        }
      ],
      "source": [
        "import statsmodels.formula.api as sm\n",
        "\n",
        "# Model 1: Only intercept\n",
        "model1 = sm.logit('Flipped ~ 1', data=df).fit()\n",
        "\n",
        "# Model 2: With all predictors\n",
        "model2 = sm.logit('Flipped ~ Age + Gender + PrimaryInsuranceCategory + DRG01 + BloodPressureDiff + Pulse + PulseOximetry + Respirations + Temperature', data=df).fit()\n",
        "\n",
        "# Compare deviances\n",
        "print(model1.summary())\n",
        "print(model2.summary())"
      ]
    }
  ],
  "metadata": {
    "colab": {
      "include_colab_link": true,
      "provenance": []
    },
    "kernelspec": {
      "display_name": "Python 3",
      "name": "python3"
    },
    "language_info": {
      "codemirror_mode": {
        "name": "ipython",
        "version": 3
      },
      "file_extension": ".py",
      "mimetype": "text/x-python",
      "name": "python",
      "nbconvert_exporter": "python",
      "pygments_lexer": "ipython3",
      "version": "3.12.1"
    }
  },
  "nbformat": 4,
  "nbformat_minor": 0
}
